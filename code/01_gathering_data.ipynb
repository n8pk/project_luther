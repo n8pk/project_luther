{
 "cells": [
  {
   "cell_type": "markdown",
   "metadata": {},
   "source": [
    "## project luther"
   ]
  },
  {
   "cell_type": "markdown",
   "metadata": {},
   "source": [
    "Nathaniel Kelley\n",
    "\n",
    "01/25/18"
   ]
  },
  {
   "cell_type": "markdown",
   "metadata": {},
   "source": [
    "## imports and driver setup"
   ]
  },
  {
   "cell_type": "code",
   "execution_count": null,
   "metadata": {
    "collapsed": true
   },
   "outputs": [],
   "source": [
    "from selenium import webdriver\n",
    "from selenium.webdriver.common.keys import Keys\n",
    "import time\n",
    "import os\n",
    "import re\n",
    "from selenium.webdriver.chrome.options import Options\n",
    "\n",
    "\n",
    "chromedriver = \"/home/nate/Bench/chromedriver\"\n",
    "os.environ[\"webdriver.chrome.driver\"] = chromedriver"
   ]
  },
  {
   "cell_type": "code",
   "execution_count": null,
   "metadata": {
    "collapsed": true
   },
   "outputs": [],
   "source": [
    "options = Options() \n",
    "options.add_argument(\"--start-maximized\") \n",
    "driver=webdriver.Chrome(chromedriver, chrome_options=options) "
   ]
  },
  {
   "cell_type": "markdown",
   "metadata": {},
   "source": [
    "# scrape for individual page"
   ]
  },
  {
   "cell_type": "code",
   "execution_count": null,
   "metadata": {
    "collapsed": true
   },
   "outputs": [],
   "source": [
    "def house_info(driver):\n",
    "    \n",
    "    '''\n",
    "    FOR: https://www.redfin.com\n",
    "    \n",
    "    call once on the webpage for an individual house\n",
    "    \n",
    "    variables scraped include: \n",
    "            address, home price, beds, baths, house size by sqft, lot size by sqft, \n",
    "            year built, garage type, yearly property tax, number of nearby buslines\n",
    "            \n",
    "    stored in a dictionary with address as the key, so any address scraped twice\n",
    "    won't be duplicated\n",
    "    '''\n",
    "    \n",
    "\n",
    "    address = driver.find_element_by_xpath('//*[@class=\"street-address\"]').text    \n",
    "    csz = driver.find_element_by_xpath('//*[@class=\"citystatezip\"]').text    \n",
    "    full_address = address + ', ' + csz\n",
    "\n",
    "\n",
    "    home_price = driver.find_element_by_xpath('//*[@class=\"info-block price\"]').text\n",
    "    home_price = float(home_price.replace('$', '').replace(',', '').replace('\\nPrice', ''))\n",
    "\n",
    "\n",
    "    beds = driver.find_element_by_xpath('//*[@data-rf-test-id=\"abp-beds\"]').text\n",
    "    try:\n",
    "        beds = float(beds.replace('\\n', ' ').split(' ')[0])\n",
    "    except:\n",
    "        beds = float(0)\n",
    "        \n",
    "\n",
    "    baths = driver.find_element_by_xpath('//*[@data-rf-test-id=\"abp-baths\"]').text\n",
    "    try:\n",
    "        baths = float(baths.replace('\\n', ' ').split(' ')[0])\n",
    "    except:\n",
    "        baths = float(0)\n",
    "        \n",
    "    \n",
    "    house_sqft = driver.find_element_by_xpath('//*[@class=\"info-block sqft\"]').text\n",
    "    try:\n",
    "        house_sqft = float(house_sqft.split(' ')[0].replace(',', ''))\n",
    "    except:\n",
    "        house_sqft = float(0)\n",
    "        \n",
    "        \n",
    "    key_deets = driver.find_element_by_xpath('//*[@class=\"keyDetailsList\"]').text\n",
    "    key_deets = key_deets.split('Built')[1].split('\\n')\n",
    "    \n",
    "    \n",
    "    year_built = float(key_deets[1])\n",
    "    \n",
    "    \n",
    "    try:\n",
    "        lot_sqft = float(key_deets[3].split(' ')[0].replace(',', ''))\n",
    "    except:\n",
    "        lot_sqft = float(0)\n",
    "\n",
    "       \n",
    "    amenities = driver.find_element_by_xpath('//*[@class=\"amenities-container\"]').text\n",
    "    amenities = amenities.replace('\\n', ' ')\n",
    "\n",
    "\n",
    "    garage_find = re.compile('\\w*tached G')\n",
    "    garage_type = re.findall(garage_find, amenities)\n",
    "    try:\n",
    "        garage_type = str(garage_type[0]).lower().split(' ')[0]\n",
    "    except:\n",
    "        garage_type = 'none'\n",
    "\n",
    "        \n",
    "    try:\n",
    "        try:    \n",
    "            tax_find = re.search(r'Taxes:(.*?)Tax', amenities).group(1)\n",
    "            yearly_tax = float(tax_find.replace(' ', '').replace('$', '').replace(',', ''))\n",
    "        except:\n",
    "            monthly_tax = driver.find_element_by_xpath('//*[@class=\"MortgageCalculatorSummary\"]').text\n",
    "            monthly_tax = monthly_tax.replace('\\n', ' ')\n",
    "            monthly_tax = re.search(r'Taxes(.*?)H', monthly_tax).group(1)\n",
    "            monthly_tax = float(monthly_tax.strip().replace('$', '').replace(',', ''))\n",
    "            yearly_tax = 12*monthly_tax\n",
    "    except:\n",
    "        yearly_tax = float(0)\n",
    "\n",
    "        \n",
    "    try:\n",
    "        bus_find = re.search(r'Route Number: (.*)Listing', amenities).group(1)\n",
    "        bus_list = bus_find.replace(',', ' ').split()\n",
    "        num_busline = len(bus_list)\n",
    "    except:\n",
    "        num_busline = 0  \n",
    "    \n",
    "    \n",
    "\n",
    "    \n",
    "    stats = [full_address, home_price, beds, baths, \\\n",
    "            house_sqft, lot_sqft, year_built, \\\n",
    "            garage_type, yearly_tax, num_busline]\n",
    "    \n",
    "    return {stats[0]: stats[1:]}"
   ]
  },
  {
   "cell_type": "markdown",
   "metadata": {},
   "source": [
    "# scraping the whole page"
   ]
  },
  {
   "cell_type": "code",
   "execution_count": null,
   "metadata": {
    "collapsed": true
   },
   "outputs": [],
   "source": [
    "def page_pull(driver):\n",
    "    \n",
    "    '''\n",
    "    for page one\n",
    "    \n",
    "    open house, scrape, close, repeat\n",
    "    \n",
    "    close window after house 20 (max)\n",
    "    '''\n",
    "\n",
    "    for i in range(20):\n",
    "\n",
    "        try:\n",
    "            search = driver.find_element_by_xpath('//*[@id=\"MapHomeCard_{}\"]/div/div[2]/div[3]/a/button'.format(i))\n",
    "        except:\n",
    "            search = driver.find_element_by_xpath('//*[@id=\"MapHomeCard_{}\"]/div/div[2]/div[4]/a/button'.format(i))\n",
    "\n",
    "        search.click()\n",
    "        time.sleep(1);\n",
    "\n",
    "        driver.switch_to_window(driver.window_handles[1]);\n",
    "\n",
    "        house_pull.update(house_info(driver));\n",
    "        time.sleep(1);\n",
    "\n",
    "\n",
    "        driver.close();\n",
    "\n",
    "        driver.switch_to_window(driver.window_handles[0]);"
   ]
  },
  {
   "cell_type": "code",
   "execution_count": null,
   "metadata": {
    "collapsed": true
   },
   "outputs": [],
   "source": [
    "def page_over_pull(driver):\n",
    "    \n",
    "    '''\n",
    "    for page i in (2, n)\n",
    "    \n",
    "    open house, scrape, close, repeat\n",
    "    \n",
    "    close window after house 20*i (max)\n",
    "    '''\n",
    "\n",
    "    for i in range(20*(j-1),20*j):\n",
    "\n",
    "        try:\n",
    "            search = driver.find_element_by_xpath('//*[@id=\"MapHomeCard_{}\"]/div/div[2]/div[3]/a/button'.format(i))\n",
    "        except:\n",
    "            search = driver.find_element_by_xpath('//*[@id=\"MapHomeCard_{}\"]/div/div[2]/div[4]/a/button'.format(i))\n",
    "\n",
    "        search.click()\n",
    "        time.sleep(1);\n",
    "\n",
    "        driver.switch_to_window(driver.window_handles[1]);\n",
    "\n",
    "        house_pull.update(house_info(driver));\n",
    "        time.sleep(1);\n",
    "\n",
    "\n",
    "        driver.close();\n",
    "\n",
    "        driver.switch_to_window(driver.window_handles[0]);"
   ]
  },
  {
   "cell_type": "markdown",
   "metadata": {},
   "source": [
    "# scraping all the pages"
   ]
  },
  {
   "cell_type": "code",
   "execution_count": null,
   "metadata": {
    "collapsed": true
   },
   "outputs": [],
   "source": [
    "# initialize driver, something weird with starting maximized\n",
    "\n",
    "options = Options() \n",
    "options.add_argument(\"--start-maximized\") \n",
    "driver=webdriver.Chrome(chromedriver, chrome_options=options);"
   ]
  },
  {
   "cell_type": "code",
   "execution_count": null,
   "metadata": {
    "collapsed": true
   },
   "outputs": [],
   "source": [
    "# scrape page 1\n",
    "# initially not included in whole loop because not 'https://...type=house/page-1'\n",
    "# left on its own for page 1 update-scrapes\n",
    "\n",
    "page_pull(driver);\n",
    "\n",
    "driver.quit();"
   ]
  },
  {
   "cell_type": "code",
   "execution_count": null,
   "metadata": {
    "collapsed": true
   },
   "outputs": [],
   "source": [
    "# scrape pages 2 thru n\n",
    "# can identify n, or just plug in high number and let it error off\n",
    "# recommend checking n to avoid extra dummy houses at end\n",
    "\n",
    "\n",
    "# Seattle:\n",
    "# https://www.redfin.com/city/16163/WA/Seattle/filter/sort=lo-days,property-type=house/page-{}\n",
    "\n",
    "\n",
    "n = \n",
    "city = ''\n",
    "house_pull = {}\n",
    "\n",
    "for j in range(2, n):\n",
    "    driver.get(city.format(j));\n",
    "    time.sleep(1);\n",
    "    page_over_pull(driver);\n",
    "    \n",
    "driver.quit();"
   ]
  },
  {
   "cell_type": "code",
   "execution_count": null,
   "metadata": {
    "collapsed": true
   },
   "outputs": [],
   "source": [
    "# file names:\n",
    "# Seattle: sea_raw.pkl\n",
    "\n",
    "\n",
    "import pickle\n",
    "\n",
    "pickle_out = open(\"  .pkl\",\"wb\")\n",
    "pickle.dump(house_pull, pickle_out)\n",
    "pickle_out.close()"
   ]
  }
 ],
 "metadata": {
  "kernelspec": {
   "display_name": "Python 3",
   "language": "python",
   "name": "python3"
  },
  "language_info": {
   "codemirror_mode": {
    "name": "ipython",
    "version": 3
   },
   "file_extension": ".py",
   "mimetype": "text/x-python",
   "name": "python",
   "nbconvert_exporter": "python",
   "pygments_lexer": "ipython3",
   "version": "3.6.3"
  },
  "toc": {
   "nav_menu": {},
   "number_sections": true,
   "sideBar": true,
   "skip_h1_title": false,
   "toc_cell": false,
   "toc_position": {},
   "toc_section_display": "block",
   "toc_window_display": false
  }
 },
 "nbformat": 4,
 "nbformat_minor": 2
}
