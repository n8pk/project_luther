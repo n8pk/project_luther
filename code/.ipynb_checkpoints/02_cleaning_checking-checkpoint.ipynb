{
 "cells": [
  {
   "cell_type": "code",
   "execution_count": 1,
   "metadata": {
    "collapsed": true
   },
   "outputs": [],
   "source": [
    "import pandas as pd"
   ]
  },
  {
   "cell_type": "code",
   "execution_count": 6,
   "metadata": {},
   "outputs": [],
   "source": [
    "house_dict = pd.read_pickle(\"/home/nate/ds/metis/class_work/projects/project_luther/code/den_raw.pkl\")"
   ]
  },
  {
   "cell_type": "code",
   "execution_count": 7,
   "metadata": {},
   "outputs": [],
   "source": [
    "house_df = pd.DataFrame.from_dict(house_dict, orient='index')"
   ]
  },
  {
   "cell_type": "code",
   "execution_count": 8,
   "metadata": {
    "collapsed": true
   },
   "outputs": [],
   "source": [
    "house_df = house_df.reset_index()"
   ]
  },
  {
   "cell_type": "code",
   "execution_count": 9,
   "metadata": {
    "collapsed": true
   },
   "outputs": [],
   "source": [
    "house_df.columns = ['full_address', 'home_price', 'beds', 'baths', 'house_sqft', \\\n",
    "                    'lot_sqft', 'year_built', 'garage_type', 'yearly_tax']"
   ]
  },
  {
   "cell_type": "code",
   "execution_count": 11,
   "metadata": {},
   "outputs": [
    {
     "data": {
      "text/html": [
       "<div>\n",
       "<style scoped>\n",
       "    .dataframe tbody tr th:only-of-type {\n",
       "        vertical-align: middle;\n",
       "    }\n",
       "\n",
       "    .dataframe tbody tr th {\n",
       "        vertical-align: top;\n",
       "    }\n",
       "\n",
       "    .dataframe thead th {\n",
       "        text-align: right;\n",
       "    }\n",
       "</style>\n",
       "<table border=\"1\" class=\"dataframe\">\n",
       "  <thead>\n",
       "    <tr style=\"text-align: right;\">\n",
       "      <th></th>\n",
       "      <th>home_price</th>\n",
       "      <th>beds</th>\n",
       "      <th>baths</th>\n",
       "      <th>house_sqft</th>\n",
       "      <th>lot_sqft</th>\n",
       "      <th>year_built</th>\n",
       "      <th>yearly_tax</th>\n",
       "    </tr>\n",
       "  </thead>\n",
       "  <tbody>\n",
       "    <tr>\n",
       "      <th>count</th>\n",
       "      <td>7.400000e+02</td>\n",
       "      <td>740.000000</td>\n",
       "      <td>740.000000</td>\n",
       "      <td>740.000000</td>\n",
       "      <td>740.000000</td>\n",
       "      <td>740.000000</td>\n",
       "      <td>740.000000</td>\n",
       "    </tr>\n",
       "    <tr>\n",
       "      <th>mean</th>\n",
       "      <td>6.460550e+05</td>\n",
       "      <td>2.964865</td>\n",
       "      <td>2.676351</td>\n",
       "      <td>2213.109459</td>\n",
       "      <td>2745.882432</td>\n",
       "      <td>1609.577027</td>\n",
       "      <td>5270.186486</td>\n",
       "    </tr>\n",
       "    <tr>\n",
       "      <th>std</th>\n",
       "      <td>5.040800e+05</td>\n",
       "      <td>1.279106</td>\n",
       "      <td>1.107995</td>\n",
       "      <td>1251.195214</td>\n",
       "      <td>3170.008667</td>\n",
       "      <td>775.430019</td>\n",
       "      <td>4987.375704</td>\n",
       "    </tr>\n",
       "    <tr>\n",
       "      <th>min</th>\n",
       "      <td>5.000000e+04</td>\n",
       "      <td>0.000000</td>\n",
       "      <td>0.000000</td>\n",
       "      <td>120.000000</td>\n",
       "      <td>0.000000</td>\n",
       "      <td>0.000000</td>\n",
       "      <td>0.000000</td>\n",
       "    </tr>\n",
       "    <tr>\n",
       "      <th>25%</th>\n",
       "      <td>3.999375e+05</td>\n",
       "      <td>2.000000</td>\n",
       "      <td>2.000000</td>\n",
       "      <td>1386.250000</td>\n",
       "      <td>0.000000</td>\n",
       "      <td>1911.000000</td>\n",
       "      <td>1812.000000</td>\n",
       "    </tr>\n",
       "    <tr>\n",
       "      <th>50%</th>\n",
       "      <td>5.395000e+05</td>\n",
       "      <td>3.000000</td>\n",
       "      <td>2.500000</td>\n",
       "      <td>1960.000000</td>\n",
       "      <td>0.000000</td>\n",
       "      <td>1967.500000</td>\n",
       "      <td>4464.000000</td>\n",
       "    </tr>\n",
       "    <tr>\n",
       "      <th>75%</th>\n",
       "      <td>6.999238e+05</td>\n",
       "      <td>4.000000</td>\n",
       "      <td>3.000000</td>\n",
       "      <td>2716.250000</td>\n",
       "      <td>6051.000000</td>\n",
       "      <td>2017.000000</td>\n",
       "      <td>7146.000000</td>\n",
       "    </tr>\n",
       "    <tr>\n",
       "      <th>max</th>\n",
       "      <td>6.500000e+06</td>\n",
       "      <td>19.000000</td>\n",
       "      <td>7.000000</td>\n",
       "      <td>17061.000000</td>\n",
       "      <td>10454.000000</td>\n",
       "      <td>2019.000000</td>\n",
       "      <td>51600.000000</td>\n",
       "    </tr>\n",
       "  </tbody>\n",
       "</table>\n",
       "</div>"
      ],
      "text/plain": [
       "         home_price        beds       baths    house_sqft      lot_sqft  \\\n",
       "count  7.400000e+02  740.000000  740.000000    740.000000    740.000000   \n",
       "mean   6.460550e+05    2.964865    2.676351   2213.109459   2745.882432   \n",
       "std    5.040800e+05    1.279106    1.107995   1251.195214   3170.008667   \n",
       "min    5.000000e+04    0.000000    0.000000    120.000000      0.000000   \n",
       "25%    3.999375e+05    2.000000    2.000000   1386.250000      0.000000   \n",
       "50%    5.395000e+05    3.000000    2.500000   1960.000000      0.000000   \n",
       "75%    6.999238e+05    4.000000    3.000000   2716.250000   6051.000000   \n",
       "max    6.500000e+06   19.000000    7.000000  17061.000000  10454.000000   \n",
       "\n",
       "        year_built    yearly_tax  \n",
       "count   740.000000    740.000000  \n",
       "mean   1609.577027   5270.186486  \n",
       "std     775.430019   4987.375704  \n",
       "min       0.000000      0.000000  \n",
       "25%    1911.000000   1812.000000  \n",
       "50%    1967.500000   4464.000000  \n",
       "75%    2017.000000   7146.000000  \n",
       "max    2019.000000  51600.000000  "
      ]
     },
     "execution_count": 11,
     "metadata": {},
     "output_type": "execute_result"
    }
   ],
   "source": [
    "house_df.describe()"
   ]
  },
  {
   "cell_type": "code",
   "execution_count": 12,
   "metadata": {
    "collapsed": true
   },
   "outputs": [],
   "source": [
    "lot0 = [x for x in house_df['year_built'] if x==0]"
   ]
  },
  {
   "cell_type": "code",
   "execution_count": 13,
   "metadata": {},
   "outputs": [
    {
     "data": {
      "text/plain": [
       "139"
      ]
     },
     "execution_count": 13,
     "metadata": {},
     "output_type": "execute_result"
    }
   ],
   "source": [
    "len(lot0)"
   ]
  },
  {
   "cell_type": "code",
   "execution_count": 23,
   "metadata": {
    "collapsed": true
   },
   "outputs": [],
   "source": [
    "# dump after cleaning\n",
    "\n",
    "house_df.to_pickle('/home/nate/ds/metis/class_work/projects/project_luther/data/sea_clean.pkl')"
   ]
  },
  {
   "cell_type": "code",
   "execution_count": null,
   "metadata": {
    "collapsed": true
   },
   "outputs": [],
   "source": []
  }
 ],
 "metadata": {
  "kernelspec": {
   "display_name": "Python 3",
   "language": "python",
   "name": "python3"
  },
  "language_info": {
   "codemirror_mode": {
    "name": "ipython",
    "version": 3
   },
   "file_extension": ".py",
   "mimetype": "text/x-python",
   "name": "python",
   "nbconvert_exporter": "python",
   "pygments_lexer": "ipython3",
   "version": "3.6.3"
  },
  "toc": {
   "nav_menu": {},
   "number_sections": true,
   "sideBar": true,
   "skip_h1_title": false,
   "toc_cell": false,
   "toc_position": {},
   "toc_section_display": "block",
   "toc_window_display": false
  }
 },
 "nbformat": 4,
 "nbformat_minor": 2
}
