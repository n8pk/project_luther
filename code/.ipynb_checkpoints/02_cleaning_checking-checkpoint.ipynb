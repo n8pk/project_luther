{
 "cells": [
  {
   "cell_type": "code",
   "execution_count": 1,
   "metadata": {
    "collapsed": true
   },
   "outputs": [],
   "source": [
    "import pandas as pd"
   ]
  },
  {
   "cell_type": "code",
   "execution_count": 9,
   "metadata": {
    "collapsed": true
   },
   "outputs": [],
   "source": [
    "house_dict = pd.read_pickle(\"/home/nate/ds/metis/class_work/projects/project_luther/code/den_raw_new.pkl\")"
   ]
  },
  {
   "cell_type": "code",
   "execution_count": 12,
   "metadata": {},
   "outputs": [
    {
     "data": {
      "text/plain": [
       "1172"
      ]
     },
     "execution_count": 12,
     "metadata": {},
     "output_type": "execute_result"
    }
   ],
   "source": [
    "len(house_df)"
   ]
  },
  {
   "cell_type": "code",
   "execution_count": 11,
   "metadata": {
    "collapsed": true
   },
   "outputs": [],
   "source": [
    "house_df = pd.DataFrame.from_dict(house_dict, orient='index')"
   ]
  },
  {
   "cell_type": "code",
   "execution_count": 13,
   "metadata": {
    "collapsed": true
   },
   "outputs": [],
   "source": [
    "house_df = house_df.reset_index()"
   ]
  },
  {
   "cell_type": "code",
   "execution_count": 14,
   "metadata": {
    "collapsed": true
   },
   "outputs": [],
   "source": [
    "house_df.columns = ['full_address', 'home_price', 'beds', 'baths', 'house_sqft', \\\n",
    "                    'lot_sqft', 'year_built', 'garage_type', 'yearly_tax']"
   ]
  },
  {
   "cell_type": "code",
   "execution_count": 15,
   "metadata": {},
   "outputs": [
    {
     "data": {
      "text/html": [
       "<div>\n",
       "<style scoped>\n",
       "    .dataframe tbody tr th:only-of-type {\n",
       "        vertical-align: middle;\n",
       "    }\n",
       "\n",
       "    .dataframe tbody tr th {\n",
       "        vertical-align: top;\n",
       "    }\n",
       "\n",
       "    .dataframe thead th {\n",
       "        text-align: right;\n",
       "    }\n",
       "</style>\n",
       "<table border=\"1\" class=\"dataframe\">\n",
       "  <thead>\n",
       "    <tr style=\"text-align: right;\">\n",
       "      <th></th>\n",
       "      <th>home_price</th>\n",
       "      <th>beds</th>\n",
       "      <th>baths</th>\n",
       "      <th>house_sqft</th>\n",
       "      <th>lot_sqft</th>\n",
       "      <th>year_built</th>\n",
       "      <th>yearly_tax</th>\n",
       "    </tr>\n",
       "  </thead>\n",
       "  <tbody>\n",
       "    <tr>\n",
       "      <th>count</th>\n",
       "      <td>1.172000e+03</td>\n",
       "      <td>1172.000000</td>\n",
       "      <td>1172.000000</td>\n",
       "      <td>1172.00000</td>\n",
       "      <td>1172.000000</td>\n",
       "      <td>1172.000000</td>\n",
       "      <td>1172.000000</td>\n",
       "    </tr>\n",
       "    <tr>\n",
       "      <th>mean</th>\n",
       "      <td>7.125892e+05</td>\n",
       "      <td>2.939420</td>\n",
       "      <td>2.751706</td>\n",
       "      <td>2329.40273</td>\n",
       "      <td>2618.914676</td>\n",
       "      <td>1714.197952</td>\n",
       "      <td>5282.598976</td>\n",
       "    </tr>\n",
       "    <tr>\n",
       "      <th>std</th>\n",
       "      <td>6.613876e+05</td>\n",
       "      <td>1.322052</td>\n",
       "      <td>1.262595</td>\n",
       "      <td>1523.96780</td>\n",
       "      <td>3264.073137</td>\n",
       "      <td>680.290238</td>\n",
       "      <td>5330.136462</td>\n",
       "    </tr>\n",
       "    <tr>\n",
       "      <th>min</th>\n",
       "      <td>5.000000e+04</td>\n",
       "      <td>0.000000</td>\n",
       "      <td>0.000000</td>\n",
       "      <td>120.00000</td>\n",
       "      <td>0.000000</td>\n",
       "      <td>0.000000</td>\n",
       "      <td>0.000000</td>\n",
       "    </tr>\n",
       "    <tr>\n",
       "      <th>25%</th>\n",
       "      <td>4.035250e+05</td>\n",
       "      <td>2.000000</td>\n",
       "      <td>2.000000</td>\n",
       "      <td>1363.00000</td>\n",
       "      <td>0.000000</td>\n",
       "      <td>1939.000000</td>\n",
       "      <td>1710.000000</td>\n",
       "    </tr>\n",
       "    <tr>\n",
       "      <th>50%</th>\n",
       "      <td>5.649495e+05</td>\n",
       "      <td>3.000000</td>\n",
       "      <td>2.500000</td>\n",
       "      <td>1972.50000</td>\n",
       "      <td>0.000000</td>\n",
       "      <td>1980.000000</td>\n",
       "      <td>4116.000000</td>\n",
       "    </tr>\n",
       "    <tr>\n",
       "      <th>75%</th>\n",
       "      <td>7.500000e+05</td>\n",
       "      <td>4.000000</td>\n",
       "      <td>3.500000</td>\n",
       "      <td>2824.50000</td>\n",
       "      <td>6070.000000</td>\n",
       "      <td>2017.000000</td>\n",
       "      <td>7236.000000</td>\n",
       "    </tr>\n",
       "    <tr>\n",
       "      <th>max</th>\n",
       "      <td>1.047500e+07</td>\n",
       "      <td>19.000000</td>\n",
       "      <td>9.000000</td>\n",
       "      <td>18696.00000</td>\n",
       "      <td>10800.000000</td>\n",
       "      <td>2019.000000</td>\n",
       "      <td>56112.000000</td>\n",
       "    </tr>\n",
       "  </tbody>\n",
       "</table>\n",
       "</div>"
      ],
      "text/plain": [
       "         home_price         beds        baths   house_sqft      lot_sqft  \\\n",
       "count  1.172000e+03  1172.000000  1172.000000   1172.00000   1172.000000   \n",
       "mean   7.125892e+05     2.939420     2.751706   2329.40273   2618.914676   \n",
       "std    6.613876e+05     1.322052     1.262595   1523.96780   3264.073137   \n",
       "min    5.000000e+04     0.000000     0.000000    120.00000      0.000000   \n",
       "25%    4.035250e+05     2.000000     2.000000   1363.00000      0.000000   \n",
       "50%    5.649495e+05     3.000000     2.500000   1972.50000      0.000000   \n",
       "75%    7.500000e+05     4.000000     3.500000   2824.50000   6070.000000   \n",
       "max    1.047500e+07    19.000000     9.000000  18696.00000  10800.000000   \n",
       "\n",
       "        year_built    yearly_tax  \n",
       "count  1172.000000   1172.000000  \n",
       "mean   1714.197952   5282.598976  \n",
       "std     680.290238   5330.136462  \n",
       "min       0.000000      0.000000  \n",
       "25%    1939.000000   1710.000000  \n",
       "50%    1980.000000   4116.000000  \n",
       "75%    2017.000000   7236.000000  \n",
       "max    2019.000000  56112.000000  "
      ]
     },
     "execution_count": 15,
     "metadata": {},
     "output_type": "execute_result"
    }
   ],
   "source": [
    "house_df.describe()"
   ]
  },
  {
   "cell_type": "code",
   "execution_count": 18,
   "metadata": {
    "collapsed": true
   },
   "outputs": [],
   "source": [
    "# dump after cleaning\n",
    "\n",
    "house_df.to_pickle('/home/nate/ds/metis/class_work/projects/project_luther/data/den_clean.pkl')"
   ]
  },
  {
   "cell_type": "code",
   "execution_count": null,
   "metadata": {
    "collapsed": true
   },
   "outputs": [],
   "source": []
  }
 ],
 "metadata": {
  "kernelspec": {
   "display_name": "Python 3",
   "language": "python",
   "name": "python3"
  },
  "language_info": {
   "codemirror_mode": {
    "name": "ipython",
    "version": 3
   },
   "file_extension": ".py",
   "mimetype": "text/x-python",
   "name": "python",
   "nbconvert_exporter": "python",
   "pygments_lexer": "ipython3",
   "version": "3.6.3"
  },
  "toc": {
   "nav_menu": {},
   "number_sections": true,
   "sideBar": true,
   "skip_h1_title": false,
   "toc_cell": false,
   "toc_position": {},
   "toc_section_display": "block",
   "toc_window_display": false
  }
 },
 "nbformat": 4,
 "nbformat_minor": 2
}
