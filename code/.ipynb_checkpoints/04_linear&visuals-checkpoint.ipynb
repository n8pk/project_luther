{
 "cells": [
  {
   "cell_type": "code",
   "execution_count": 67,
   "metadata": {
    "collapsed": true
   },
   "outputs": [],
   "source": [
    "import pandas as pd\n",
    "import numpy as np\n",
    "from matplotlib import pyplot as plt\n",
    "import seaborn as sns\n",
    "\n",
    "from sklearn.model_selection import cross_val_predict\n",
    "from sklearn.linear_model import LinearRegression\n",
    "\n",
    "%matplotlib inline"
   ]
  },
  {
   "cell_type": "markdown",
   "metadata": {},
   "source": [
    "# clean -> cleaner"
   ]
  },
  {
   "cell_type": "code",
   "execution_count": 112,
   "metadata": {
    "collapsed": true
   },
   "outputs": [],
   "source": [
    "sea_clean = pd.read_pickle('/home/nate/ds/metis/class_work/projects/project_luther/data/sea_clean.pkl')\n",
    "den_clean = pd.read_pickle('/home/nate/ds/metis/class_work/projects/project_luther/data/den_clean.pkl')"
   ]
  },
  {
   "cell_type": "code",
   "execution_count": 6,
   "metadata": {
    "collapsed": true
   },
   "outputs": [],
   "source": [
    "sea_clean = sea_clean[sea_clean.beds != 0]\n",
    "sea_clean = sea_clean[sea_clean.baths !=0]"
   ]
  },
  {
   "cell_type": "code",
   "execution_count": 8,
   "metadata": {
    "collapsed": true
   },
   "outputs": [],
   "source": [
    "sea_clean = sea_clean[sea_clean.lot_sqft >= 10]\n",
    "den_clean = den_clean[den_clean.lot_sqft >= 10]"
   ]
  },
  {
   "cell_type": "code",
   "execution_count": 9,
   "metadata": {
    "collapsed": true
   },
   "outputs": [],
   "source": [
    "sea_clean = sea_clean[sea_clean.yearly_tax != 0]\n",
    "den_clean = den_clean[den_clean.yearly_tax != 0]"
   ]
  },
  {
   "cell_type": "code",
   "execution_count": 10,
   "metadata": {
    "collapsed": true
   },
   "outputs": [],
   "source": [
    "sea_clean.to_pickle('/home/nate/ds/metis/class_work/projects/project_luther/data/sea_super_clean.pkl')\n",
    "den_clean.to_pickle('/home/nate/ds/metis/class_work/projects/project_luther/data/den_super_clean.pkl')"
   ]
  },
  {
   "cell_type": "markdown",
   "metadata": {},
   "source": [
    "# initial visuals"
   ]
  },
  {
   "cell_type": "code",
   "execution_count": 163,
   "metadata": {
    "collapsed": true
   },
   "outputs": [],
   "source": [
    "ssc = pd.read_pickle('/home/nate/ds/metis/class_work/projects/project_luther/data/sea_super_clean.pkl')\n",
    "dsc = pd.read_pickle('/home/nate/ds/metis/class_work/projects/project_luther/data/den_super_clean.pkl')"
   ]
  },
  {
   "cell_type": "code",
   "execution_count": 164,
   "metadata": {
    "collapsed": true
   },
   "outputs": [],
   "source": [
    "dsc['price_sqft'] = (dsc['home_price']/dsc['house_sqft'])\n",
    "ssc['price_sqft'] = (ssc['home_price']/ssc['house_sqft'])"
   ]
  },
  {
   "cell_type": "code",
   "execution_count": 106,
   "metadata": {},
   "outputs": [],
   "source": [
    "#sns.pairplot(dsc, size = 1.2, aspect=1.5)"
   ]
  },
  {
   "cell_type": "code",
   "execution_count": 21,
   "metadata": {
    "collapsed": true
   },
   "outputs": [],
   "source": [
    "#sns.pairplot(ssc, size = 1.2, aspect=1.5)"
   ]
  },
  {
   "cell_type": "code",
   "execution_count": 120,
   "metadata": {},
   "outputs": [],
   "source": [
    "def remove_outliers(df, col):\n",
    "    \n",
    "    q75, q25 = np.percentile(df[col], [75 ,25])\n",
    "    iqr = q75 - q25\n",
    "    \n",
    "    df[col] = df[df[col] < 1.5*iqr]\n",
    "    \n",
    "    return df"
   ]
  },
  {
   "cell_type": "code",
   "execution_count": 168,
   "metadata": {},
   "outputs": [
    {
     "data": {
      "text/plain": [
       "172.21682732702033"
      ]
     },
     "execution_count": 168,
     "metadata": {},
     "output_type": "execute_result"
    }
   ],
   "source": [
    "new_dsc = dsc.copy()\n",
    "\n",
    "q75, q50, q25 = np.percentile(new_dsc['price_sqft'], [75, 50 ,25])\n",
    "iqr = q75 - q25\n",
    "iqr*1.5"
   ]
  },
  {
   "cell_type": "code",
   "execution_count": 169,
   "metadata": {},
   "outputs": [
    {
     "data": {
      "text/html": [
       "<div>\n",
       "<style scoped>\n",
       "    .dataframe tbody tr th:only-of-type {\n",
       "        vertical-align: middle;\n",
       "    }\n",
       "\n",
       "    .dataframe tbody tr th {\n",
       "        vertical-align: top;\n",
       "    }\n",
       "\n",
       "    .dataframe thead th {\n",
       "        text-align: right;\n",
       "    }\n",
       "</style>\n",
       "<table border=\"1\" class=\"dataframe\">\n",
       "  <thead>\n",
       "    <tr style=\"text-align: right;\">\n",
       "      <th></th>\n",
       "      <th>home_price</th>\n",
       "      <th>beds</th>\n",
       "      <th>baths</th>\n",
       "      <th>house_sqft</th>\n",
       "      <th>lot_sqft</th>\n",
       "      <th>year_built</th>\n",
       "      <th>yearly_tax</th>\n",
       "      <th>min_dist</th>\n",
       "      <th>price_sqft</th>\n",
       "    </tr>\n",
       "  </thead>\n",
       "  <tbody>\n",
       "    <tr>\n",
       "      <th>count</th>\n",
       "      <td>1.770000e+02</td>\n",
       "      <td>177.000000</td>\n",
       "      <td>177.000000</td>\n",
       "      <td>177.000000</td>\n",
       "      <td>177.000000</td>\n",
       "      <td>177.000000</td>\n",
       "      <td>177.000000</td>\n",
       "      <td>177.000000</td>\n",
       "      <td>177.000000</td>\n",
       "    </tr>\n",
       "    <tr>\n",
       "      <th>mean</th>\n",
       "      <td>6.518761e+05</td>\n",
       "      <td>3.615819</td>\n",
       "      <td>2.700565</td>\n",
       "      <td>2548.689266</td>\n",
       "      <td>6391.406780</td>\n",
       "      <td>1962.316384</td>\n",
       "      <td>3169.627119</td>\n",
       "      <td>0.649768</td>\n",
       "      <td>262.889244</td>\n",
       "    </tr>\n",
       "    <tr>\n",
       "      <th>std</th>\n",
       "      <td>4.119808e+05</td>\n",
       "      <td>1.060327</td>\n",
       "      <td>1.286137</td>\n",
       "      <td>1354.061328</td>\n",
       "      <td>1729.633626</td>\n",
       "      <td>36.433804</td>\n",
       "      <td>3495.818524</td>\n",
       "      <td>0.401359</td>\n",
       "      <td>75.553046</td>\n",
       "    </tr>\n",
       "    <tr>\n",
       "      <th>min</th>\n",
       "      <td>2.200000e+05</td>\n",
       "      <td>1.000000</td>\n",
       "      <td>1.000000</td>\n",
       "      <td>539.000000</td>\n",
       "      <td>2063.000000</td>\n",
       "      <td>1886.000000</td>\n",
       "      <td>216.000000</td>\n",
       "      <td>0.050895</td>\n",
       "      <td>135.802469</td>\n",
       "    </tr>\n",
       "    <tr>\n",
       "      <th>25%</th>\n",
       "      <td>3.750000e+05</td>\n",
       "      <td>3.000000</td>\n",
       "      <td>2.000000</td>\n",
       "      <td>1595.000000</td>\n",
       "      <td>5533.000000</td>\n",
       "      <td>1942.000000</td>\n",
       "      <td>1260.000000</td>\n",
       "      <td>0.316652</td>\n",
       "      <td>204.975396</td>\n",
       "    </tr>\n",
       "    <tr>\n",
       "      <th>50%</th>\n",
       "      <td>5.400000e+05</td>\n",
       "      <td>4.000000</td>\n",
       "      <td>2.000000</td>\n",
       "      <td>2204.000000</td>\n",
       "      <td>6250.000000</td>\n",
       "      <td>1955.000000</td>\n",
       "      <td>2040.000000</td>\n",
       "      <td>0.593450</td>\n",
       "      <td>259.036145</td>\n",
       "    </tr>\n",
       "    <tr>\n",
       "      <th>75%</th>\n",
       "      <td>7.225000e+05</td>\n",
       "      <td>4.000000</td>\n",
       "      <td>4.000000</td>\n",
       "      <td>3183.000000</td>\n",
       "      <td>7630.000000</td>\n",
       "      <td>1999.000000</td>\n",
       "      <td>3684.000000</td>\n",
       "      <td>0.930502</td>\n",
       "      <td>315.789474</td>\n",
       "    </tr>\n",
       "    <tr>\n",
       "      <th>max</th>\n",
       "      <td>2.550000e+06</td>\n",
       "      <td>7.000000</td>\n",
       "      <td>7.000000</td>\n",
       "      <td>7221.000000</td>\n",
       "      <td>10454.000000</td>\n",
       "      <td>2018.000000</td>\n",
       "      <td>30948.000000</td>\n",
       "      <td>1.977639</td>\n",
       "      <td>488.840893</td>\n",
       "    </tr>\n",
       "  </tbody>\n",
       "</table>\n",
       "</div>"
      ],
      "text/plain": [
       "         home_price        beds       baths   house_sqft      lot_sqft  \\\n",
       "count  1.770000e+02  177.000000  177.000000   177.000000    177.000000   \n",
       "mean   6.518761e+05    3.615819    2.700565  2548.689266   6391.406780   \n",
       "std    4.119808e+05    1.060327    1.286137  1354.061328   1729.633626   \n",
       "min    2.200000e+05    1.000000    1.000000   539.000000   2063.000000   \n",
       "25%    3.750000e+05    3.000000    2.000000  1595.000000   5533.000000   \n",
       "50%    5.400000e+05    4.000000    2.000000  2204.000000   6250.000000   \n",
       "75%    7.225000e+05    4.000000    4.000000  3183.000000   7630.000000   \n",
       "max    2.550000e+06    7.000000    7.000000  7221.000000  10454.000000   \n",
       "\n",
       "        year_built    yearly_tax    min_dist  price_sqft  \n",
       "count   177.000000    177.000000  177.000000  177.000000  \n",
       "mean   1962.316384   3169.627119    0.649768  262.889244  \n",
       "std      36.433804   3495.818524    0.401359   75.553046  \n",
       "min    1886.000000    216.000000    0.050895  135.802469  \n",
       "25%    1942.000000   1260.000000    0.316652  204.975396  \n",
       "50%    1955.000000   2040.000000    0.593450  259.036145  \n",
       "75%    1999.000000   3684.000000    0.930502  315.789474  \n",
       "max    2018.000000  30948.000000    1.977639  488.840893  "
      ]
     },
     "execution_count": 169,
     "metadata": {},
     "output_type": "execute_result"
    }
   ],
   "source": [
    "dsc = new_dsc[new_dsc['price_sqft'] < q75+(iqr*1.5)]\n",
    "\n",
    "dsc.describe()"
   ]
  },
  {
   "cell_type": "code",
   "execution_count": 6,
   "metadata": {
    "collapsed": true
   },
   "outputs": [],
   "source": [
    "# den_near = dsc[dsc['min_dist']>1.5]\n",
    "\n",
    "# den_near"
   ]
  },
  {
   "cell_type": "code",
   "execution_count": 7,
   "metadata": {
    "collapsed": true
   },
   "outputs": [],
   "source": [
    "# x = den_near['min_dist']\n",
    "# y = den_near['price_sqft']\n",
    "\n",
    "# plt.scatter(x,y)"
   ]
  },
  {
   "cell_type": "code",
   "execution_count": 170,
   "metadata": {},
   "outputs": [
    {
     "data": {
      "image/png": "[encoded data removed]",
      "text/plain": [
       "<matplotlib.figure.Figure at 0x7fe40ad3c1d0>"
      ]
     },
     "metadata": {},
     "output_type": "display_data"
    }
   ],
   "source": [
    "x = dsc['min_dist']\n",
    "y = dsc['price_sqft']\n",
    "\n",
    "plt.figure(figsize=(10,5))\n",
    "plt.ylim(0, 650)\n",
    "plt.xlim(0, 4)\n",
    "plt.plot(x, y, 'go')\n",
    "plt.title('Price/sqft. vs. Dist to Nearest Dispensary in Denver', fontsize=20, fontweight='bold')\n",
    "plt.ylabel('Price per sqft', fontsize=14, fontweight='bold')\n",
    "plt.xlabel('Minimum Distance in Miles', fontsize=14, fontweight='bold');"
   ]
  },
  {
   "cell_type": "code",
   "execution_count": 5,
   "metadata": {},
   "outputs": [],
   "source": [
    "# x = ssc['min_dist']\n",
    "# y = ssc['price_sqft']\n",
    "\n",
    "# plt.figure(figsize=(20,10))\n",
    "# #plt.ylim(0, 450)\n",
    "# plt.plot(x, y, 'go')\n",
    "# plt.title('Price vs Distance in Seattle', fontsize=20, fontweight='bold')\n",
    "# plt.ylabel('Price per sqft', fontsize=14, fontweight='bold')\n",
    "# plt.xlabel('Minimum Distance in Miles', fontsize=14, fontweight='bold');"
   ]
  },
  {
   "cell_type": "code",
   "execution_count": null,
   "metadata": {
    "collapsed": true
   },
   "outputs": [],
   "source": [
    "x = dsc['min_dist']\n",
    "y = dsc['price_sqft']\n",
    "\n",
    "plt.figure(figsize=(20,10))\n",
    "#plt.ylim(0, 450)\n",
    "plt.plot(x, y, 'go')\n",
    "plt.title('Price vs Distance in Denver', fontsize=20, fontweight='bold')\n",
    "plt.ylabel('Price per sqft', fontsize=14, fontweight='bold')\n",
    "plt.xlabel('Minimum Distance in Miles', fontsize=14, fontweight='bold');"
   ]
  },
  {
   "cell_type": "code",
   "execution_count": 11,
   "metadata": {},
   "outputs": [
    {
     "data": {
      "text/html": [
       "<div>\n",
       "<style scoped>\n",
       "    .dataframe tbody tr th:only-of-type {\n",
       "        vertical-align: middle;\n",
       "    }\n",
       "\n",
       "    .dataframe tbody tr th {\n",
       "        vertical-align: top;\n",
       "    }\n",
       "\n",
       "    .dataframe thead th {\n",
       "        text-align: right;\n",
       "    }\n",
       "</style>\n",
       "<table border=\"1\" class=\"dataframe\">\n",
       "  <thead>\n",
       "    <tr style=\"text-align: right;\">\n",
       "      <th></th>\n",
       "      <th>full_address</th>\n",
       "      <th>home_price</th>\n",
       "      <th>beds</th>\n",
       "      <th>baths</th>\n",
       "      <th>house_sqft</th>\n",
       "      <th>lot_sqft</th>\n",
       "      <th>year_built</th>\n",
       "      <th>garage_type</th>\n",
       "      <th>yearly_tax</th>\n",
       "      <th>min_dist</th>\n",
       "      <th>price_sqft</th>\n",
       "    </tr>\n",
       "  </thead>\n",
       "  <tbody>\n",
       "    <tr>\n",
       "      <th>0</th>\n",
       "      <td>2322 Clarkson St, Denver, CO 80205</td>\n",
       "      <td>859000.0</td>\n",
       "      <td>3.0</td>\n",
       "      <td>4.0</td>\n",
       "      <td>3183.0</td>\n",
       "      <td>3125.0</td>\n",
       "      <td>1898.0</td>\n",
       "      <td>none</td>\n",
       "      <td>2292.0</td>\n",
       "      <td>0.239751</td>\n",
       "      <td>269.871191</td>\n",
       "    </tr>\n",
       "    <tr>\n",
       "      <th>1</th>\n",
       "      <td>19472 E 59th Pl, Aurora, CO 80019</td>\n",
       "      <td>329900.0</td>\n",
       "      <td>2.0</td>\n",
       "      <td>3.0</td>\n",
       "      <td>1668.0</td>\n",
       "      <td>5700.0</td>\n",
       "      <td>2001.0</td>\n",
       "      <td>none</td>\n",
       "      <td>2412.0</td>\n",
       "      <td>1.510783</td>\n",
       "      <td>197.781775</td>\n",
       "    </tr>\n",
       "    <tr>\n",
       "      <th>2</th>\n",
       "      <td>8552 E 49th Pl, Denver, CO 80238</td>\n",
       "      <td>600000.0</td>\n",
       "      <td>4.0</td>\n",
       "      <td>4.0</td>\n",
       "      <td>2854.0</td>\n",
       "      <td>3296.0</td>\n",
       "      <td>2013.0</td>\n",
       "      <td>none</td>\n",
       "      <td>4464.0</td>\n",
       "      <td>1.311372</td>\n",
       "      <td>210.231254</td>\n",
       "    </tr>\n",
       "    <tr>\n",
       "      <th>3</th>\n",
       "      <td>1750 S Tennyson St, Denver, CO 80219</td>\n",
       "      <td>339900.0</td>\n",
       "      <td>3.0</td>\n",
       "      <td>2.0</td>\n",
       "      <td>2152.0</td>\n",
       "      <td>9740.0</td>\n",
       "      <td>1955.0</td>\n",
       "      <td>none</td>\n",
       "      <td>1668.0</td>\n",
       "      <td>0.689434</td>\n",
       "      <td>157.946097</td>\n",
       "    </tr>\n",
       "    <tr>\n",
       "      <th>4</th>\n",
       "      <td>1000 S Jackson St, Denver, CO 80209</td>\n",
       "      <td>925000.0</td>\n",
       "      <td>4.0</td>\n",
       "      <td>3.0</td>\n",
       "      <td>3012.0</td>\n",
       "      <td>6250.0</td>\n",
       "      <td>1954.0</td>\n",
       "      <td>none</td>\n",
       "      <td>4428.0</td>\n",
       "      <td>0.775793</td>\n",
       "      <td>307.104914</td>\n",
       "    </tr>\n",
       "  </tbody>\n",
       "</table>\n",
       "</div>"
      ],
      "text/plain": [
       "                           full_address  home_price  beds  baths  house_sqft  \\\n",
       "0    2322 Clarkson St, Denver, CO 80205    859000.0   3.0    4.0      3183.0   \n",
       "1     19472 E 59th Pl, Aurora, CO 80019    329900.0   2.0    3.0      1668.0   \n",
       "2      8552 E 49th Pl, Denver, CO 80238    600000.0   4.0    4.0      2854.0   \n",
       "3  1750 S Tennyson St, Denver, CO 80219    339900.0   3.0    2.0      2152.0   \n",
       "4   1000 S Jackson St, Denver, CO 80209    925000.0   4.0    3.0      3012.0   \n",
       "\n",
       "   lot_sqft  year_built garage_type  yearly_tax  min_dist  price_sqft  \n",
       "0    3125.0      1898.0        none      2292.0  0.239751  269.871191  \n",
       "1    5700.0      2001.0        none      2412.0  1.510783  197.781775  \n",
       "2    3296.0      2013.0        none      4464.0  1.311372  210.231254  \n",
       "3    9740.0      1955.0        none      1668.0  0.689434  157.946097  \n",
       "4    6250.0      1954.0        none      4428.0  0.775793  307.104914  "
      ]
     },
     "execution_count": 11,
     "metadata": {},
     "output_type": "execute_result"
    }
   ],
   "source": [
    "dsc.head(5)"
   ]
  },
  {
   "cell_type": "code",
   "execution_count": 27,
   "metadata": {},
   "outputs": [],
   "source": [
    "def dist_bin(df, col):\n",
    "    \n",
    "    dist_bin = []\n",
    "    \n",
    "    for dist in df[col]:\n",
    "        \n",
    "        if dist < 0.5:\n",
    "            dist_bin.append(0.25)\n",
    "        elif dist < 1.0:\n",
    "            dist_bin.append(0.75)\n",
    "        elif dist < 1.5:\n",
    "            dist_bin.append(1.25)\n",
    "        elif dist < 2.0:\n",
    "            dist_bin.append(1.75)\n",
    "        elif dist < 2.5:\n",
    "            dist_bin.append(2.25)\n",
    "        elif dist < 3.0:\n",
    "            dist_bin.append(2.75)\n",
    "        elif dist < 3.5:\n",
    "            dist_bin.append(3.25)\n",
    "        else:\n",
    "            dist_bin.append(3.75)\n",
    "            \n",
    "    df['dist_bin'] = dist_bin\n",
    "    \n",
    "    return df"
   ]
  },
  {
   "cell_type": "code",
   "execution_count": 149,
   "metadata": {
    "collapsed": true
   },
   "outputs": [],
   "source": [
    "new_dsc = dsc.copy()"
   ]
  },
  {
   "cell_type": "code",
   "execution_count": 150,
   "metadata": {},
   "outputs": [],
   "source": [
    "new_dsc = dist_bin(new_dsc, 'min_dist')"
   ]
  },
  {
   "cell_type": "code",
   "execution_count": 151,
   "metadata": {},
   "outputs": [],
   "source": [
    "bin_mean = new_dsc.groupby('dist_bin').mean()\n",
    "\n",
    "bin_std = new_dsc.groupby('dist_bin').agg(np.std, ddof=1)"
   ]
  },
  {
   "cell_type": "code",
   "execution_count": 153,
   "metadata": {},
   "outputs": [
    {
     "ename": "ValueError",
     "evalue": "shape mismatch: objects cannot be broadcast to a single shape",
     "output_type": "error",
     "traceback": [
      "\u001b[0;31m---------------------------------------------------------------------------\u001b[0m",
      "\u001b[0;31mValueError\u001b[0m                                Traceback (most recent call last)",
      "\u001b[0;32m<ipython-input-153-cfdf92b0e860>\u001b[0m in \u001b[0;36m<module>\u001b[0;34m()\u001b[0m\n\u001b[1;32m      6\u001b[0m \u001b[0mplt\u001b[0m\u001b[0;34m.\u001b[0m\u001b[0mylim\u001b[0m\u001b[0;34m(\u001b[0m\u001b[0;36m0\u001b[0m\u001b[0;34m,\u001b[0m \u001b[0;36m650\u001b[0m\u001b[0;34m)\u001b[0m\u001b[0;34m\u001b[0m\u001b[0m\n\u001b[1;32m      7\u001b[0m \u001b[0mplt\u001b[0m\u001b[0;34m.\u001b[0m\u001b[0mxlim\u001b[0m\u001b[0;34m(\u001b[0m\u001b[0;36m0\u001b[0m\u001b[0;34m,\u001b[0m \u001b[0;36m4\u001b[0m\u001b[0;34m)\u001b[0m\u001b[0;34m\u001b[0m\u001b[0m\n\u001b[0;32m----> 8\u001b[0;31m \u001b[0mplt\u001b[0m\u001b[0;34m.\u001b[0m\u001b[0mbar\u001b[0m\u001b[0;34m(\u001b[0m\u001b[0mx\u001b[0m\u001b[0;34m,\u001b[0m \u001b[0my\u001b[0m\u001b[0;34m,\u001b[0m \u001b[0mwidth\u001b[0m\u001b[0;34m=\u001b[0m\u001b[0;36m0.25\u001b[0m\u001b[0;34m,\u001b[0m \u001b[0mcolor\u001b[0m\u001b[0;34m=\u001b[0m\u001b[0;34m'k'\u001b[0m\u001b[0;34m,\u001b[0m \u001b[0myerr\u001b[0m\u001b[0;34m=\u001b[0m\u001b[0myerr\u001b[0m\u001b[0;34m,\u001b[0m \u001b[0merror_kw\u001b[0m\u001b[0;34m=\u001b[0m\u001b[0mdict\u001b[0m\u001b[0;34m(\u001b[0m\u001b[0melinewidth\u001b[0m\u001b[0;34m=\u001b[0m\u001b[0;36m3\u001b[0m\u001b[0;34m,\u001b[0m \u001b[0mecolor\u001b[0m\u001b[0;34m=\u001b[0m\u001b[0;34m'g'\u001b[0m\u001b[0;34m,\u001b[0m \u001b[0mcapsize\u001b[0m\u001b[0;34m=\u001b[0m\u001b[0;36m9\u001b[0m\u001b[0;34m)\u001b[0m\u001b[0;34m)\u001b[0m\u001b[0;34m\u001b[0m\u001b[0m\n\u001b[0m\u001b[1;32m      9\u001b[0m \u001b[0mplt\u001b[0m\u001b[0;34m.\u001b[0m\u001b[0mtitle\u001b[0m\u001b[0;34m(\u001b[0m\u001b[0;34m'Price/sqft. vs. Dist to Nearest Dispensary in Denver'\u001b[0m\u001b[0;34m,\u001b[0m \u001b[0mfontsize\u001b[0m\u001b[0;34m=\u001b[0m\u001b[0;36m20\u001b[0m\u001b[0;34m,\u001b[0m \u001b[0mfontweight\u001b[0m\u001b[0;34m=\u001b[0m\u001b[0;34m'bold'\u001b[0m\u001b[0;34m)\u001b[0m\u001b[0;34m\u001b[0m\u001b[0m\n\u001b[1;32m     10\u001b[0m \u001b[0mplt\u001b[0m\u001b[0;34m.\u001b[0m\u001b[0mylabel\u001b[0m\u001b[0;34m(\u001b[0m\u001b[0;34m'Price per sqft'\u001b[0m\u001b[0;34m,\u001b[0m \u001b[0mfontsize\u001b[0m\u001b[0;34m=\u001b[0m\u001b[0;36m14\u001b[0m\u001b[0;34m,\u001b[0m \u001b[0mfontweight\u001b[0m\u001b[0;34m=\u001b[0m\u001b[0;34m'bold'\u001b[0m\u001b[0;34m)\u001b[0m\u001b[0;34m\u001b[0m\u001b[0m\n",
      "\u001b[0;32m~/anaconda3/lib/python3.6/site-packages/matplotlib/pyplot.py\u001b[0m in \u001b[0;36mbar\u001b[0;34m(*args, **kwargs)\u001b[0m\n\u001b[1;32m   2625\u001b[0m                       mplDeprecation)\n\u001b[1;32m   2626\u001b[0m     \u001b[0;32mtry\u001b[0m\u001b[0;34m:\u001b[0m\u001b[0;34m\u001b[0m\u001b[0m\n\u001b[0;32m-> 2627\u001b[0;31m         \u001b[0mret\u001b[0m \u001b[0;34m=\u001b[0m \u001b[0max\u001b[0m\u001b[0;34m.\u001b[0m\u001b[0mbar\u001b[0m\u001b[0;34m(\u001b[0m\u001b[0;34m*\u001b[0m\u001b[0margs\u001b[0m\u001b[0;34m,\u001b[0m \u001b[0;34m**\u001b[0m\u001b[0mkwargs\u001b[0m\u001b[0;34m)\u001b[0m\u001b[0;34m\u001b[0m\u001b[0m\n\u001b[0m\u001b[1;32m   2628\u001b[0m     \u001b[0;32mfinally\u001b[0m\u001b[0;34m:\u001b[0m\u001b[0;34m\u001b[0m\u001b[0m\n\u001b[1;32m   2629\u001b[0m         \u001b[0max\u001b[0m\u001b[0;34m.\u001b[0m\u001b[0m_hold\u001b[0m \u001b[0;34m=\u001b[0m \u001b[0mwashold\u001b[0m\u001b[0;34m\u001b[0m\u001b[0m\n",
      "\u001b[0;32m~/anaconda3/lib/python3.6/site-packages/matplotlib/__init__.py\u001b[0m in \u001b[0;36minner\u001b[0;34m(ax, *args, **kwargs)\u001b[0m\n\u001b[1;32m   1708\u001b[0m                     warnings.warn(msg % (label_namer, func.__name__),\n\u001b[1;32m   1709\u001b[0m                                   RuntimeWarning, stacklevel=2)\n\u001b[0;32m-> 1710\u001b[0;31m             \u001b[0;32mreturn\u001b[0m \u001b[0mfunc\u001b[0m\u001b[0;34m(\u001b[0m\u001b[0max\u001b[0m\u001b[0;34m,\u001b[0m \u001b[0;34m*\u001b[0m\u001b[0margs\u001b[0m\u001b[0;34m,\u001b[0m \u001b[0;34m**\u001b[0m\u001b[0mkwargs\u001b[0m\u001b[0;34m)\u001b[0m\u001b[0;34m\u001b[0m\u001b[0m\n\u001b[0m\u001b[1;32m   1711\u001b[0m         \u001b[0mpre_doc\u001b[0m \u001b[0;34m=\u001b[0m \u001b[0minner\u001b[0m\u001b[0;34m.\u001b[0m\u001b[0m__doc__\u001b[0m\u001b[0;34m\u001b[0m\u001b[0m\n\u001b[1;32m   1712\u001b[0m         \u001b[0;32mif\u001b[0m \u001b[0mpre_doc\u001b[0m \u001b[0;32mis\u001b[0m \u001b[0;32mNone\u001b[0m\u001b[0;34m:\u001b[0m\u001b[0;34m\u001b[0m\u001b[0m\n",
      "\u001b[0;32m~/anaconda3/lib/python3.6/site-packages/matplotlib/axes/_axes.py\u001b[0m in \u001b[0;36mbar\u001b[0;34m(self, *args, **kwargs)\u001b[0m\n\u001b[1;32m   2079\u001b[0m         x, height, width, y, linewidth = np.broadcast_arrays(\n\u001b[1;32m   2080\u001b[0m             \u001b[0;31m# Make args iterable too.\u001b[0m\u001b[0;34m\u001b[0m\u001b[0;34m\u001b[0m\u001b[0m\n\u001b[0;32m-> 2081\u001b[0;31m             np.atleast_1d(x), height, width, y, linewidth)\n\u001b[0m\u001b[1;32m   2082\u001b[0m \u001b[0;34m\u001b[0m\u001b[0m\n\u001b[1;32m   2083\u001b[0m         \u001b[0;32mif\u001b[0m \u001b[0morientation\u001b[0m \u001b[0;34m==\u001b[0m \u001b[0;34m'vertical'\u001b[0m\u001b[0;34m:\u001b[0m\u001b[0;34m\u001b[0m\u001b[0m\n",
      "\u001b[0;32m~/anaconda3/lib/python3.6/site-packages/numpy/lib/stride_tricks.py\u001b[0m in \u001b[0;36mbroadcast_arrays\u001b[0;34m(*args, **kwargs)\u001b[0m\n\u001b[1;32m    247\u001b[0m     \u001b[0margs\u001b[0m \u001b[0;34m=\u001b[0m \u001b[0;34m[\u001b[0m\u001b[0mnp\u001b[0m\u001b[0;34m.\u001b[0m\u001b[0marray\u001b[0m\u001b[0;34m(\u001b[0m\u001b[0m_m\u001b[0m\u001b[0;34m,\u001b[0m \u001b[0mcopy\u001b[0m\u001b[0;34m=\u001b[0m\u001b[0;32mFalse\u001b[0m\u001b[0;34m,\u001b[0m \u001b[0msubok\u001b[0m\u001b[0;34m=\u001b[0m\u001b[0msubok\u001b[0m\u001b[0;34m)\u001b[0m \u001b[0;32mfor\u001b[0m \u001b[0m_m\u001b[0m \u001b[0;32min\u001b[0m \u001b[0margs\u001b[0m\u001b[0;34m]\u001b[0m\u001b[0;34m\u001b[0m\u001b[0m\n\u001b[1;32m    248\u001b[0m \u001b[0;34m\u001b[0m\u001b[0m\n\u001b[0;32m--> 249\u001b[0;31m     \u001b[0mshape\u001b[0m \u001b[0;34m=\u001b[0m \u001b[0m_broadcast_shape\u001b[0m\u001b[0;34m(\u001b[0m\u001b[0;34m*\u001b[0m\u001b[0margs\u001b[0m\u001b[0;34m)\u001b[0m\u001b[0;34m\u001b[0m\u001b[0m\n\u001b[0m\u001b[1;32m    250\u001b[0m \u001b[0;34m\u001b[0m\u001b[0m\n\u001b[1;32m    251\u001b[0m     \u001b[0;32mif\u001b[0m \u001b[0mall\u001b[0m\u001b[0;34m(\u001b[0m\u001b[0marray\u001b[0m\u001b[0;34m.\u001b[0m\u001b[0mshape\u001b[0m \u001b[0;34m==\u001b[0m \u001b[0mshape\u001b[0m \u001b[0;32mfor\u001b[0m \u001b[0marray\u001b[0m \u001b[0;32min\u001b[0m \u001b[0margs\u001b[0m\u001b[0;34m)\u001b[0m\u001b[0;34m:\u001b[0m\u001b[0;34m\u001b[0m\u001b[0m\n",
      "\u001b[0;32m~/anaconda3/lib/python3.6/site-packages/numpy/lib/stride_tricks.py\u001b[0m in \u001b[0;36m_broadcast_shape\u001b[0;34m(*args)\u001b[0m\n\u001b[1;32m    182\u001b[0m     \u001b[0;31m# use the old-iterator because np.nditer does not handle size 0 arrays\u001b[0m\u001b[0;34m\u001b[0m\u001b[0;34m\u001b[0m\u001b[0m\n\u001b[1;32m    183\u001b[0m     \u001b[0;31m# consistently\u001b[0m\u001b[0;34m\u001b[0m\u001b[0;34m\u001b[0m\u001b[0m\n\u001b[0;32m--> 184\u001b[0;31m     \u001b[0mb\u001b[0m \u001b[0;34m=\u001b[0m \u001b[0mnp\u001b[0m\u001b[0;34m.\u001b[0m\u001b[0mbroadcast\u001b[0m\u001b[0;34m(\u001b[0m\u001b[0;34m*\u001b[0m\u001b[0margs\u001b[0m\u001b[0;34m[\u001b[0m\u001b[0;34m:\u001b[0m\u001b[0;36m32\u001b[0m\u001b[0;34m]\u001b[0m\u001b[0;34m)\u001b[0m\u001b[0;34m\u001b[0m\u001b[0m\n\u001b[0m\u001b[1;32m    185\u001b[0m     \u001b[0;31m# unfortunately, it cannot handle 32 or more arguments directly\u001b[0m\u001b[0;34m\u001b[0m\u001b[0;34m\u001b[0m\u001b[0m\n\u001b[1;32m    186\u001b[0m     \u001b[0;32mfor\u001b[0m \u001b[0mpos\u001b[0m \u001b[0;32min\u001b[0m \u001b[0mrange\u001b[0m\u001b[0;34m(\u001b[0m\u001b[0;36m32\u001b[0m\u001b[0;34m,\u001b[0m \u001b[0mlen\u001b[0m\u001b[0;34m(\u001b[0m\u001b[0margs\u001b[0m\u001b[0;34m)\u001b[0m\u001b[0;34m,\u001b[0m \u001b[0;36m31\u001b[0m\u001b[0;34m)\u001b[0m\u001b[0;34m:\u001b[0m\u001b[0;34m\u001b[0m\u001b[0m\n",
      "\u001b[0;31mValueError\u001b[0m: shape mismatch: objects cannot be broadcast to a single shape"
     ]
    },
    {
     "data": {
      "image/png": "[encoded data removed]",
      "text/plain": [
       "<matplotlib.figure.Figure at 0x7fe40afbd860>"
      ]
     },
     "metadata": {},
     "output_type": "display_data"
    }
   ],
   "source": [
    "x = [0.25, 0.75, 1.25, 1.75, 2.25, 2.75, 3.25, 3.75]\n",
    "y = bin_mean['price_sqft']\n",
    "yerr = bin_std['price_sqft']\n",
    "\n",
    "plt.figure(figsize=(10,5))\n",
    "plt.ylim(0, 650)\n",
    "plt.xlim(0, 4)\n",
    "plt.bar(x, y, width=0.25, color='k', yerr=yerr, error_kw=dict(elinewidth=3, ecolor='g', capsize=9))\n",
    "plt.title('Price/sqft. vs. Dist to Nearest Dispensary in Denver', fontsize=20, fontweight='bold')\n",
    "plt.ylabel('Price per sqft', fontsize=14, fontweight='bold')\n",
    "plt.xlabel('Minimum Distance in Miles', fontsize=14, fontweight='bold');"
   ]
  },
  {
   "cell_type": "code",
   "execution_count": 155,
   "metadata": {
    "collapsed": true
   },
   "outputs": [],
   "source": [
    "X = np.array(dsc['min_dist'])\n",
    "X = np.c_[np.ones(X.shape[0]), X]\n",
    "y = np.array(dsc['price_sqft'])"
   ]
  },
  {
   "cell_type": "code",
   "execution_count": 140,
   "metadata": {
    "collapsed": true
   },
   "outputs": [],
   "source": [
    "def ols(X, y):\n",
    "    '''returns parameters based on Ordinary Least Squares.'''\n",
    "    xtx = np.dot(X.T, X) ## x-transpose times x\n",
    "    inv_xtx = np.linalg.inv(xtx) ## inverse of x-transpose times x\n",
    "    xty = np.dot(X.T, y) ## x-transpose times y\n",
    "    return np.dot(inv_xtx, xty)"
   ]
  },
  {
   "cell_type": "code",
   "execution_count": 156,
   "metadata": {},
   "outputs": [
    {
     "name": "stdout",
     "output_type": "stream",
     "text": [
      "intercept: 320.6972484071133 | slope: -87.2288740833983\n"
     ]
    }
   ],
   "source": [
    "# find parameters\n",
    "params = ols(X,y)\n",
    "print('intercept: {} | slope: {}'.format(params[0], params[1]))"
   ]
  },
  {
   "cell_type": "code",
   "execution_count": 162,
   "metadata": {},
   "outputs": [
    {
     "data": {
      "image/png": "[encoded data removed]",
      "text/plain": [
       "<matplotlib.figure.Figure at 0x7fe40ae365c0>"
      ]
     },
     "metadata": {},
     "output_type": "display_data"
    }
   ],
   "source": [
    "x = dsc['min_dist']\n",
    "y = dsc['price_sqft']\n",
    "abline = [params[1]*i + params[0] for i in x]\n",
    "\n",
    "plt.figure(figsize=(10,5))\n",
    "plt.ylim(0, 650)\n",
    "plt.xlim(0, 2)\n",
    "plt.plot(x, y, 'go', x, abline, 'k')\n",
    "plt.title('Price/sqft. vs. Dist to Nearest Dispensary in Denver', fontsize=20, fontweight='bold')\n",
    "plt.ylabel('Price per sqft', fontsize=14, fontweight='bold')\n",
    "plt.xlabel('Minimum Distance in Miles', fontsize=14, fontweight='bold')\n",
    "plt.text(1.25, 500, 'R^2 = 0.2048', fontsize=24);"
   ]
  },
  {
   "cell_type": "code",
   "execution_count": 76,
   "metadata": {
    "collapsed": true
   },
   "outputs": [],
   "source": [
    "class Stats:\n",
    "    \n",
    "    def __init__(self, X, y, model):\n",
    "        self.data = X\n",
    "        self.target = y\n",
    "        self.model = model\n",
    "        ## degrees of freedom population dep. variable variance\n",
    "        self._dft = X.shape[0] - 1   \n",
    "        ## degrees of freedom population error variance\n",
    "        self._dfe = X.shape[0] - X.shape[1] - 1  \n",
    "    \n",
    "    def sse(self):\n",
    "        '''returns sum of squared errors (model vs actual)'''\n",
    "        squared_errors = (self.target - self.model.predict(self.data)) ** 2\n",
    "        return np.sum(squared_errors)\n",
    "        \n",
    "    def sst(self):\n",
    "        '''returns total sum of squared errors (actual vs avg(actual))'''\n",
    "        avg_y = np.mean(self.target)\n",
    "        squared_errors = (self.target - avg_y) ** 2\n",
    "        return np.sum(squared_errors)\n",
    "    \n",
    "    def r_squared(self):\n",
    "        '''returns calculated value of r^2'''\n",
    "        return 1 - self.sse()/self.sst()\n",
    "    \n",
    "    def adj_r_squared(self):\n",
    "        '''returns calculated value of adjusted r^2'''\n",
    "        return 1 - (self.sse()/self._dfe) / (self.sst()/self._dft)"
   ]
  },
  {
   "cell_type": "code",
   "execution_count": 82,
   "metadata": {},
   "outputs": [],
   "source": [
    "def pretty_print_stats(stats_obj):\n",
    "    '''returns report of statistics for a given model object'''\n",
    "    items = ( ('sse:', stats_obj.sse()), ('sst:', stats_obj.sst()), \n",
    "             ('r^2:', stats_obj.r_squared()), ('adj_r^2:', stats_obj.adj_r_squared()) )\n",
    "    for item in items:\n",
    "        print('{0:8} {1:.4f}'.format(item[0], item[1]))"
   ]
  },
  {
   "cell_type": "code",
   "execution_count": 157,
   "metadata": {},
   "outputs": [
    {
     "data": {
      "text/plain": [
       "LinearRegression(copy_X=True, fit_intercept=True, n_jobs=1, normalize=False)"
      ]
     },
     "execution_count": 157,
     "metadata": {},
     "output_type": "execute_result"
    }
   ],
   "source": [
    "X = np.array(dsc['min_dist']).reshape(-1,1)\n",
    "y = dsc['price_sqft']\n",
    "\n",
    "lr = LinearRegression(fit_intercept=True)\n",
    "lr.fit(X, y)"
   ]
  },
  {
   "cell_type": "code",
   "execution_count": 158,
   "metadata": {},
   "outputs": [
    {
     "name": "stdout",
     "output_type": "stream",
     "text": [
      "sse:     841161.6102\n",
      "sst:     1057788.2461\n",
      "r^2:     0.2048\n",
      "adj_r^2: 0.2003\n"
     ]
    }
   ],
   "source": [
    "stats = Stats(X, y, lr)\n",
    "pretty_print_stats(stats)"
   ]
  },
  {
   "cell_type": "code",
   "execution_count": null,
   "metadata": {
    "collapsed": true
   },
   "outputs": [],
   "source": []
  }
 ],
 "metadata": {
  "kernelspec": {
   "display_name": "Python 3",
   "language": "python",
   "name": "python3"
  },
  "language_info": {
   "codemirror_mode": {
    "name": "ipython",
    "version": 3
   },
   "file_extension": ".py",
   "mimetype": "text/x-python",
   "name": "python",
   "nbconvert_exporter": "python",
   "pygments_lexer": "ipython3",
   "version": "3.6.3"
  },
  "toc": {
   "nav_menu": {},
   "number_sections": true,
   "sideBar": true,
   "skip_h1_title": false,
   "toc_cell": false,
   "toc_position": {},
   "toc_section_display": "block",
   "toc_window_display": false
  }
 },
 "nbformat": 4,
 "nbformat_minor": 2
}
