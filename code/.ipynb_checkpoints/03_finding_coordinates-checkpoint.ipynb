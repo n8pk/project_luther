{
 "cells": [
  {
   "cell_type": "code",
   "execution_count": 2,
   "metadata": {
    "collapsed": true
   },
   "outputs": [],
   "source": [
    "from selenium import webdriver\n",
    "from selenium.webdriver.common.keys import Keys\n",
    "import time\n",
    "import os\n",
    "import re\n",
    "from selenium.webdriver.chrome.options import Options\n",
    "import pandas as pd\n",
    "import numpy as np\n",
    "from geopy.distance import great_circle\n",
    "\n",
    "\n",
    "chromedriver = \"/home/nate/Bench/chromedriver\"\n",
    "os.environ[\"webdriver.chrome.driver\"] = chromedriver"
   ]
  },
  {
   "cell_type": "code",
   "execution_count": 3,
   "metadata": {
    "collapsed": true
   },
   "outputs": [],
   "source": [
    "den_clean = pd.read_pickle('/home/nate/ds/metis/class_work/projects/project_luther/data/den_clean.pkl')\n",
    "\n",
    "#den_cords = pd.read_pickle('/home/nate/ds/metis/class_work/projects/project_luther/data/den_cord.pkl')"
   ]
  },
  {
   "cell_type": "code",
   "execution_count": 166,
   "metadata": {
    "collapsed": true
   },
   "outputs": [],
   "source": [
    "den_clean = den_clean[den_clean.year_built != 0]"
   ]
  },
  {
   "cell_type": "code",
   "execution_count": 4,
   "metadata": {
    "collapsed": true
   },
   "outputs": [],
   "source": [
    "den_addresses = list(den_clean['full_address'])"
   ]
  },
  {
   "cell_type": "code",
   "execution_count": 5,
   "metadata": {},
   "outputs": [
    {
     "data": {
      "text/plain": [
       "1012"
      ]
     },
     "execution_count": 5,
     "metadata": {},
     "output_type": "execute_result"
    }
   ],
   "source": [
    "len(den_addresses)"
   ]
  },
  {
   "cell_type": "code",
   "execution_count": 6,
   "metadata": {},
   "outputs": [
    {
     "data": {
      "text/plain": [
       "227"
      ]
     },
     "execution_count": 6,
     "metadata": {},
     "output_type": "execute_result"
    }
   ],
   "source": [
    "len(den_cords)"
   ]
  },
  {
   "cell_type": "code",
   "execution_count": 245,
   "metadata": {
    "collapsed": true
   },
   "outputs": [],
   "source": [
    "den_addresses[338]"
   ]
  },
  {
   "cell_type": "code",
   "execution_count": 246,
   "metadata": {
    "collapsed": true
   },
   "outputs": [],
   "source": [
    "den_clean = den_clean.drop([338], axis=0)"
   ]
  },
  {
   "cell_type": "code",
   "execution_count": 247,
   "metadata": {
    "collapsed": true
   },
   "outputs": [],
   "source": [
    "den_clean = den_clean.reset_index()"
   ]
  },
  {
   "cell_type": "code",
   "execution_count": 248,
   "metadata": {
    "collapsed": true
   },
   "outputs": [],
   "source": [
    "den_clean = den_clean.drop(['index'], axis=1)"
   ]
  },
  {
   "cell_type": "code",
   "execution_count": 1,
   "metadata": {},
   "outputs": [],
   "source": [
    "#den_cords"
   ]
  },
  {
   "cell_type": "code",
   "execution_count": 6,
   "metadata": {
    "collapsed": true
   },
   "outputs": [],
   "source": [
    "def lon_lat(df):\n",
    "\n",
    "    #addresses = list(df['full_address'])\n",
    "    addresses = df\n",
    "    #lat_list = []\n",
    "    #lon_list = []\n",
    "    #data = []\n",
    "\n",
    "    driver = webdriver.Chrome(chromedriver)\n",
    "    driver.get('https://www.google.com/maps')\n",
    "    time.sleep(1);\n",
    "\n",
    "    i=0\n",
    "    while i < len(addresses):\n",
    "    \n",
    "        location = driver.find_element_by_xpath('//*[@id=\"searchboxinput\"]')\n",
    "\n",
    "        location.click()\n",
    "        time.sleep(1)\n",
    "\n",
    "        location.send_keys(addresses[i])\n",
    "        location = driver.find_element_by_xpath('//*[@id=\"searchbox-searchbutton\"]')\n",
    "        location.click()\n",
    "        time.sleep(5)\n",
    "\n",
    "\n",
    "        url = driver.current_url\n",
    "        url = re.search(r'@(.*)data', url).group(0)\n",
    "        url = url.replace('@', '').split(',')\n",
    "\n",
    "        #lat_list.append(url[0])\n",
    "        #lon_list.append(url[1])\n",
    "        data.append(tuple([url[0], url[1]]))\n",
    "        \n",
    "        driver.find_element_by_xpath('//*[@id=\"searchboxinput\"]').clear()\n",
    "        \n",
    "        i+=1\n",
    "        \n",
    "    driver.quit()\n",
    "        \n",
    "    return data"
   ]
  },
  {
   "cell_type": "code",
   "execution_count": 89,
   "metadata": {
    "collapsed": true
   },
   "outputs": [],
   "source": [
    "den_dex = den_addresses.copy()\n",
    "\n",
    "den_dex = den_dex[747:]"
   ]
  },
  {
   "cell_type": "code",
   "execution_count": 95,
   "metadata": {},
   "outputs": [
    {
     "ename": "AttributeError",
     "evalue": "'NoneType' object has no attribute 'group'",
     "output_type": "error",
     "traceback": [
      "\u001b[0;31m---------------------------------------------------------------------------\u001b[0m",
      "\u001b[0;31mAttributeError\u001b[0m                            Traceback (most recent call last)",
      "\u001b[0;32m<ipython-input-95-bff1b437c424>\u001b[0m in \u001b[0;36m<module>\u001b[0;34m()\u001b[0m\n\u001b[1;32m      1\u001b[0m \u001b[0mdata\u001b[0m \u001b[0;34m=\u001b[0m \u001b[0;34m[\u001b[0m\u001b[0;34m]\u001b[0m\u001b[0;34m\u001b[0m\u001b[0m\n\u001b[1;32m      2\u001b[0m \u001b[0;34m\u001b[0m\u001b[0m\n\u001b[0;32m----> 3\u001b[0;31m \u001b[0mdata\u001b[0m \u001b[0;34m=\u001b[0m \u001b[0mlon_lat\u001b[0m\u001b[0;34m(\u001b[0m\u001b[0mden_dex\u001b[0m\u001b[0;34m)\u001b[0m\u001b[0;34m\u001b[0m\u001b[0m\n\u001b[0m",
      "\u001b[0;32m<ipython-input-6-b7e6e3121a46>\u001b[0m in \u001b[0;36mlon_lat\u001b[0;34m(df)\u001b[0m\n\u001b[1;32m     26\u001b[0m \u001b[0;34m\u001b[0m\u001b[0m\n\u001b[1;32m     27\u001b[0m         \u001b[0murl\u001b[0m \u001b[0;34m=\u001b[0m \u001b[0mdriver\u001b[0m\u001b[0;34m.\u001b[0m\u001b[0mcurrent_url\u001b[0m\u001b[0;34m\u001b[0m\u001b[0m\n\u001b[0;32m---> 28\u001b[0;31m         \u001b[0murl\u001b[0m \u001b[0;34m=\u001b[0m \u001b[0mre\u001b[0m\u001b[0;34m.\u001b[0m\u001b[0msearch\u001b[0m\u001b[0;34m(\u001b[0m\u001b[0;34mr'@(.*)data'\u001b[0m\u001b[0;34m,\u001b[0m \u001b[0murl\u001b[0m\u001b[0;34m)\u001b[0m\u001b[0;34m.\u001b[0m\u001b[0mgroup\u001b[0m\u001b[0;34m(\u001b[0m\u001b[0;36m0\u001b[0m\u001b[0;34m)\u001b[0m\u001b[0;34m\u001b[0m\u001b[0m\n\u001b[0m\u001b[1;32m     29\u001b[0m         \u001b[0murl\u001b[0m \u001b[0;34m=\u001b[0m \u001b[0murl\u001b[0m\u001b[0;34m.\u001b[0m\u001b[0mreplace\u001b[0m\u001b[0;34m(\u001b[0m\u001b[0;34m'@'\u001b[0m\u001b[0;34m,\u001b[0m \u001b[0;34m''\u001b[0m\u001b[0;34m)\u001b[0m\u001b[0;34m.\u001b[0m\u001b[0msplit\u001b[0m\u001b[0;34m(\u001b[0m\u001b[0;34m','\u001b[0m\u001b[0;34m)\u001b[0m\u001b[0;34m\u001b[0m\u001b[0m\n\u001b[1;32m     30\u001b[0m \u001b[0;34m\u001b[0m\u001b[0m\n",
      "\u001b[0;31mAttributeError\u001b[0m: 'NoneType' object has no attribute 'group'"
     ]
    }
   ],
   "source": [
    "data = []\n",
    "\n",
    "data = lon_lat(den_dex)"
   ]
  },
  {
   "cell_type": "code",
   "execution_count": 86,
   "metadata": {},
   "outputs": [
    {
     "data": {
      "text/plain": [
       "135"
      ]
     },
     "execution_count": 86,
     "metadata": {},
     "output_type": "execute_result"
    }
   ],
   "source": [
    "len(data)"
   ]
  },
  {
   "cell_type": "code",
   "execution_count": 91,
   "metadata": {},
   "outputs": [],
   "source": [
    "den_dex[0] = '1300 N Ogden St, Denver, CO 80218'"
   ]
  },
  {
   "cell_type": "code",
   "execution_count": 88,
   "metadata": {},
   "outputs": [
    {
     "data": {
      "text/plain": [
       "747"
      ]
     },
     "execution_count": 88,
     "metadata": {},
     "output_type": "execute_result"
    }
   ],
   "source": [
    "len(data_hold)"
   ]
  },
  {
   "cell_type": "code",
   "execution_count": 87,
   "metadata": {
    "collapsed": true
   },
   "outputs": [],
   "source": [
    "data_hold = data_hold + data\n",
    "\n",
    "# address_hold = den_addresses.copy()\n",
    "\n",
    "# dc_hold = den_clean.copy()"
   ]
  },
  {
   "cell_type": "code",
   "execution_count": null,
   "metadata": {
    "collapsed": true
   },
   "outputs": [],
   "source": [
    "import pickle\n",
    "\n",
    "pickle_out = open(\"den_cord.pkl\",\"wb\")\n",
    "pickle.dump(distros, pickle_out)\n",
    "pickle_out.close()"
   ]
  },
  {
   "cell_type": "code",
   "execution_count": 193,
   "metadata": {},
   "outputs": [
    {
     "data": {
      "text/plain": [
       "('39.7512241', '-104.9788816')"
      ]
     },
     "execution_count": 193,
     "metadata": {},
     "output_type": "execute_result"
    }
   ],
   "source": [
    "address_hold = address_hold[:272]\n",
    "data_hold[0]"
   ]
  },
  {
   "cell_type": "code",
   "execution_count": 182,
   "metadata": {},
   "outputs": [
    {
     "data": {
      "text/plain": [
       "272"
      ]
     },
     "execution_count": 182,
     "metadata": {},
     "output_type": "execute_result"
    }
   ],
   "source": [
    "dc_hold = dc_hold[0:272]\n",
    "len(dc_hold)"
   ]
  },
  {
   "cell_type": "code",
   "execution_count": 22,
   "metadata": {},
   "outputs": [
    {
     "data": {
      "text/plain": [
       "227"
      ]
     },
     "execution_count": 22,
     "metadata": {},
     "output_type": "execute_result"
    }
   ],
   "source": [
    "dst_means = nn_test(den_cords, 42)\n",
    "len(dst_means)"
   ]
  },
  {
   "cell_type": "code",
   "execution_count": 23,
   "metadata": {
    "collapsed": true
   },
   "outputs": [],
   "source": [
    "def nn_test(cord_list, num_nb):\n",
    "    \n",
    "    cords = cord_list\n",
    "    x = num_nb\n",
    "    \n",
    "    dst_means = []\n",
    "    \n",
    "    for house in cords:\n",
    "        \n",
    "        dst = []\n",
    "        \n",
    "        for neighbor in cords:\n",
    "            \n",
    "            dst.append(great_circle(house, neighbor).miles)\n",
    "            \n",
    "        dst.sort()\n",
    "        \n",
    "        mean = dst[1:(x+2)]\n",
    "        \n",
    "        dst_means.append(sum(mean)/len(mean))\n",
    "        \n",
    "    return dst_means"
   ]
  },
  {
   "cell_type": "code",
   "execution_count": 26,
   "metadata": {
    "collapsed": true
   },
   "outputs": [],
   "source": [
    "def nearest_neighbors(df, cord_col, target_col, num_nb):\n",
    "    \n",
    "    '''\n",
    "    input: dataframe, col name for coordinates, col name for target var, number of neighbors\n",
    "    \n",
    "    work: \n",
    "        finds the closest num_nb houses with great_circle\n",
    "        takes the mean of target_col across those houses\n",
    "    \n",
    "    output: dataframe with 'target_col_nn' appended\n",
    "    '''\n",
    "\n",
    "    target_col = \n",
    "    \n",
    "    \n",
    "    \n",
    "    for house in df[cord_col]:\n",
    "        \n",
    "        nearest_lst = []\n",
    "    \n",
    "        for neighbors in df[]\n",
    "        \n",
    "        \n",
    "        \n",
    "    \n",
    "    \n",
    "    lat_lst = list(df[lat])\n",
    "    long_lst = list(df[long])\n",
    "    combined = list(zip(lat_lst, long_lst))\n",
    "\n",
    "    name_lst = list(df[name])\n",
    "    bound = list(zip(name_lst, combined))\n",
    "\n",
    "    distance_lst = []\n",
    "\n",
    "    for index, name in enumerate(bound):\n",
    "        for other in bound[index+1:]:\n",
    "            distance = great_circle(name[1], other[1]).miles\n",
    "            if distance < 0.15:\n",
    "                distance_lst.append([name[0], other[0], distance])\n",
    "                \n",
    "    return distance_lst"
   ]
  },
  {
   "cell_type": "code",
   "execution_count": 3,
   "metadata": {
    "collapsed": true
   },
   "outputs": [],
   "source": [
    "# den_cord = pd.read_pickle('/home/nate/ds/metis/class_work/projects/project_luther/data/den_cord.pkl')\n",
    "# sea_cord = pd.read_pickle('/home/nate/ds/metis/class_work/projects/project_luther/data/sea_clean.pkl')"
   ]
  },
  {
   "cell_type": "code",
   "execution_count": 5,
   "metadata": {
    "collapsed": true
   },
   "outputs": [],
   "source": [
    "#den_cord"
   ]
  },
  {
   "cell_type": "code",
   "execution_count": 10,
   "metadata": {
    "collapsed": true
   },
   "outputs": [],
   "source": [
    "#sea_dispensaries = []\n",
    "den_dispensaries = []"
   ]
  },
  {
   "cell_type": "code",
   "execution_count": 7,
   "metadata": {
    "collapsed": true
   },
   "outputs": [],
   "source": [
    "# x = [47.7179246,-122.3436163]\n",
    "# sea_dispensaries.append(tuple(x))"
   ]
  },
  {
   "cell_type": "code",
   "execution_count": 8,
   "metadata": {},
   "outputs": [
    {
     "data": {
      "text/plain": [
       "[(47.7179246, -122.3436163)]"
      ]
     },
     "execution_count": 8,
     "metadata": {},
     "output_type": "execute_result"
    }
   ],
   "source": [
    "# sea_dispensaries"
   ]
  },
  {
   "cell_type": "code",
   "execution_count": 183,
   "metadata": {
    "collapsed": true
   },
   "outputs": [],
   "source": [
    "driver = webdriver.Chrome(chromedriver)"
   ]
  },
  {
   "cell_type": "code",
   "execution_count": 184,
   "metadata": {
    "collapsed": true
   },
   "outputs": [],
   "source": [
    "driver.get('https://www.coloradopotguide.com/where-to-buy-marijuana/colorado/denver/')"
   ]
  },
  {
   "cell_type": "code",
   "execution_count": 83,
   "metadata": {
    "collapsed": true
   },
   "outputs": [],
   "source": [
    "# sea_dis_add = []\n",
    "\n",
    "# for i in range(4,29):\n",
    "#     for j in range(1,3):\n",
    "#         sea_dis_add.append(driver.find_element_by_xpath(\\\n",
    "#             '//*[@id=\"CityStores\"]/div[{}]/div[{}]/div[1]'.format(i,j)).text)"
   ]
  },
  {
   "cell_type": "code",
   "execution_count": 185,
   "metadata": {
    "collapsed": true
   },
   "outputs": [],
   "source": [
    "den_dis_add = []\n",
    "\n",
    "for i in range(1,11):\n",
    "    for j in range(1,3):\n",
    "        den_dis_add.append(driver.find_element_by_xpath(\\\n",
    "            '//*[@id=\"CityStores\"]/div[{}]/div[{}]/div[1]/div[1]/div'.format(i,j)).text)\n",
    "\n",
    "for i in range(14,113):\n",
    "    for j in range(1,3):\n",
    "        den_dis_add.append(driver.find_element_by_xpath(\\\n",
    "            '//*[@id=\"CityStores\"]/div[{}]/div[{}]/div[1]'.format(i,j)).text)\n",
    "\n",
    "# //*[@id=\"CityStores\"]/div[1]/div[1]/div[1]/div[1]/div\n",
    "# //*[@id=\"CityStores\"]/div[10]/div[2]/div[1]/div[1]/div\n",
    "# //*[@id=\"CityStores\"]/div[14]/div[1]/div[1]\n",
    "# //*[@id=\"CityStores\"]/div[112]/div[2]/div[1]\n",
    "\n",
    "\n"
   ]
  },
  {
   "cell_type": "code",
   "execution_count": 29,
   "metadata": {},
   "outputs": [
    {
     "ename": "SyntaxError",
     "evalue": "unexpected character after line continuation character (<ipython-input-29-cb19d2794a85>, line 3)",
     "output_type": "error",
     "traceback": [
      "\u001b[0;36m  File \u001b[0;32m\"<ipython-input-29-cb19d2794a85>\"\u001b[0;36m, line \u001b[0;32m3\u001b[0m\n\u001b[0;31m    add.split(\\n)\u001b[0m\n\u001b[0m                 ^\u001b[0m\n\u001b[0;31mSyntaxError\u001b[0m\u001b[0;31m:\u001b[0m unexpected character after line continuation character\n"
     ]
    }
   ],
   "source": [
    "# sda = []\n",
    "# for add in sea_dis_add:\n",
    "#     add.split('\\n')\n",
    "#     #add = add[1] + ', ' + add[2]\n",
    "#     sda.append(add)\n",
    "# sda\n",
    "# #sea_dis_add.split('\\n')"
   ]
  },
  {
   "cell_type": "code",
   "execution_count": 36,
   "metadata": {},
   "outputs": [
    {
     "data": {
      "text/plain": [
       "['A Greener Today Recreational',\n",
       " '5209 Martin Luther King Jr Way',\n",
       " 'Seattle, WA 98118',\n",
       " 'Phone: (206) 687-7877',\n",
       " 'Website     Store Profile']"
      ]
     },
     "execution_count": 36,
     "metadata": {},
     "output_type": "execute_result"
    }
   ],
   "source": [
    "# x = sea_dis_add[0].split('\\n')\n",
    "# x"
   ]
  },
  {
   "cell_type": "code",
   "execution_count": 186,
   "metadata": {},
   "outputs": [
    {
     "data": {
      "text/plain": [
       "'4750 Nome St\\nDenver, CO 80239\\n(303) 373-0752'"
      ]
     },
     "execution_count": 186,
     "metadata": {},
     "output_type": "execute_result"
    }
   ],
   "source": [
    "den_dis_add[0]"
   ]
  },
  {
   "cell_type": "code",
   "execution_count": 187,
   "metadata": {},
   "outputs": [
    {
     "data": {
      "text/plain": [
       "'4750 Nome St, Denver, CO 80239'"
      ]
     },
     "execution_count": 187,
     "metadata": {},
     "output_type": "execute_result"
    }
   ],
   "source": [
    "dda = []\n",
    "i = 0\n",
    "while i < len(den_dis_add):\n",
    "    store = den_dis_add[i].split('\\n')\n",
    "    store = store[0]+', '+store[1]\n",
    "    dda.append(store)\n",
    "    i+=1\n",
    "dda[0]"
   ]
  },
  {
   "cell_type": "code",
   "execution_count": 188,
   "metadata": {
    "collapsed": true
   },
   "outputs": [],
   "source": [
    "dda.append('7289 E Hampden Ave, Denver, CO 80224')\n",
    "dda.append('2251 S Broadway,Denver, CO 80210')\n",
    "dda.append('1881 S Broadway, Denver, CO 80210')"
   ]
  },
  {
   "cell_type": "code",
   "execution_count": 190,
   "metadata": {
    "collapsed": true
   },
   "outputs": [],
   "source": [
    "distros = []\n",
    "\n",
    "distros = lon_lat(dda)"
   ]
  },
  {
   "cell_type": "code",
   "execution_count": 191,
   "metadata": {
    "collapsed": true
   },
   "outputs": [],
   "source": [
    "def distance(list1, list2):\n",
    "\n",
    "    \n",
    "    min_dist = []\n",
    "\n",
    "    for house in list1:\n",
    "        \n",
    "        dist_list = []\n",
    "        \n",
    "        for store in list2:\n",
    "            dist = great_circle(house, store).miles\n",
    "            dist_list.append(dist)\n",
    "        \n",
    "        min_dist.append(min(dist_list))\n",
    "                \n",
    "    return min_dist"
   ]
  },
  {
   "cell_type": "code",
   "execution_count": 313,
   "metadata": {},
   "outputs": [
    {
     "data": {
      "text/plain": [
       "1012"
      ]
     },
     "execution_count": 313,
     "metadata": {},
     "output_type": "execute_result"
    }
   ],
   "source": [
    "min_dist = distance(data_hold, distros)\n",
    "len(min_dist)"
   ]
  },
  {
   "cell_type": "code",
   "execution_count": 314,
   "metadata": {
    "collapsed": true
   },
   "outputs": [],
   "source": [
    "den_clean['min_dist'] = min_dist"
   ]
  },
  {
   "cell_type": "code",
   "execution_count": 315,
   "metadata": {
    "collapsed": true
   },
   "outputs": [],
   "source": [
    "den_clean.to_pickle('/home/nate/ds/metis/class_work/projects/project_luther/data/den_clean.pkl')"
   ]
  },
  {
   "cell_type": "code",
   "execution_count": 214,
   "metadata": {},
   "outputs": [
    {
     "data": {
      "text/plain": [
       "272"
      ]
     },
     "execution_count": 214,
     "metadata": {},
     "output_type": "execute_result"
    }
   ],
   "source": [
    "len(min_dist)"
   ]
  },
  {
   "cell_type": "code",
   "execution_count": 316,
   "metadata": {},
   "outputs": [
    {
     "data": {
      "text/html": [
       "<div>\n",
       "<style scoped>\n",
       "    .dataframe tbody tr th:only-of-type {\n",
       "        vertical-align: middle;\n",
       "    }\n",
       "\n",
       "    .dataframe tbody tr th {\n",
       "        vertical-align: top;\n",
       "    }\n",
       "\n",
       "    .dataframe thead th {\n",
       "        text-align: right;\n",
       "    }\n",
       "</style>\n",
       "<table border=\"1\" class=\"dataframe\">\n",
       "  <thead>\n",
       "    <tr style=\"text-align: right;\">\n",
       "      <th></th>\n",
       "      <th>full_address</th>\n",
       "      <th>home_price</th>\n",
       "      <th>beds</th>\n",
       "      <th>baths</th>\n",
       "      <th>house_sqft</th>\n",
       "      <th>lot_sqft</th>\n",
       "      <th>year_built</th>\n",
       "      <th>garage_type</th>\n",
       "      <th>yearly_tax</th>\n",
       "      <th>min_dist</th>\n",
       "    </tr>\n",
       "  </thead>\n",
       "  <tbody>\n",
       "    <tr>\n",
       "      <th>0</th>\n",
       "      <td>2322 Clarkson St, Denver, CO 80205</td>\n",
       "      <td>859000.0</td>\n",
       "      <td>3.0</td>\n",
       "      <td>4.0</td>\n",
       "      <td>3183.0</td>\n",
       "      <td>3125.0</td>\n",
       "      <td>1898.0</td>\n",
       "      <td>none</td>\n",
       "      <td>2292.0</td>\n",
       "      <td>0.239751</td>\n",
       "    </tr>\n",
       "    <tr>\n",
       "      <th>1</th>\n",
       "      <td>19472 E 59th Pl, Aurora, CO 80019</td>\n",
       "      <td>329900.0</td>\n",
       "      <td>2.0</td>\n",
       "      <td>3.0</td>\n",
       "      <td>1668.0</td>\n",
       "      <td>5700.0</td>\n",
       "      <td>2001.0</td>\n",
       "      <td>none</td>\n",
       "      <td>2412.0</td>\n",
       "      <td>1.510783</td>\n",
       "    </tr>\n",
       "    <tr>\n",
       "      <th>2</th>\n",
       "      <td>8552 E 49th Pl, Denver, CO 80238</td>\n",
       "      <td>600000.0</td>\n",
       "      <td>4.0</td>\n",
       "      <td>4.0</td>\n",
       "      <td>2854.0</td>\n",
       "      <td>3296.0</td>\n",
       "      <td>2013.0</td>\n",
       "      <td>none</td>\n",
       "      <td>4464.0</td>\n",
       "      <td>1.311372</td>\n",
       "    </tr>\n",
       "    <tr>\n",
       "      <th>3</th>\n",
       "      <td>1750 S Tennyson St, Denver, CO 80219</td>\n",
       "      <td>339900.0</td>\n",
       "      <td>3.0</td>\n",
       "      <td>2.0</td>\n",
       "      <td>2152.0</td>\n",
       "      <td>9740.0</td>\n",
       "      <td>1955.0</td>\n",
       "      <td>none</td>\n",
       "      <td>1668.0</td>\n",
       "      <td>0.689434</td>\n",
       "    </tr>\n",
       "    <tr>\n",
       "      <th>4</th>\n",
       "      <td>1000 S Jackson St, Denver, CO 80209</td>\n",
       "      <td>925000.0</td>\n",
       "      <td>4.0</td>\n",
       "      <td>3.0</td>\n",
       "      <td>3012.0</td>\n",
       "      <td>6250.0</td>\n",
       "      <td>1954.0</td>\n",
       "      <td>none</td>\n",
       "      <td>4428.0</td>\n",
       "      <td>0.775793</td>\n",
       "    </tr>\n",
       "  </tbody>\n",
       "</table>\n",
       "</div>"
      ],
      "text/plain": [
       "                           full_address  home_price  beds  baths  house_sqft  \\\n",
       "0    2322 Clarkson St, Denver, CO 80205    859000.0   3.0    4.0      3183.0   \n",
       "1     19472 E 59th Pl, Aurora, CO 80019    329900.0   2.0    3.0      1668.0   \n",
       "2      8552 E 49th Pl, Denver, CO 80238    600000.0   4.0    4.0      2854.0   \n",
       "3  1750 S Tennyson St, Denver, CO 80219    339900.0   3.0    2.0      2152.0   \n",
       "4   1000 S Jackson St, Denver, CO 80209    925000.0   4.0    3.0      3012.0   \n",
       "\n",
       "   lot_sqft  year_built garage_type  yearly_tax  min_dist  \n",
       "0    3125.0      1898.0        none      2292.0  0.239751  \n",
       "1    5700.0      2001.0        none      2412.0  1.510783  \n",
       "2    3296.0      2013.0        none      4464.0  1.311372  \n",
       "3    9740.0      1955.0        none      1668.0  0.689434  \n",
       "4    6250.0      1954.0        none      4428.0  0.775793  "
      ]
     },
     "execution_count": 316,
     "metadata": {},
     "output_type": "execute_result"
    }
   ],
   "source": [
    "den_clean.head(5)"
   ]
  },
  {
   "cell_type": "code",
   "execution_count": 207,
   "metadata": {},
   "outputs": [
    {
     "data": {
      "text/plain": [
       "'2322 Clarkson St, Denver, CO 80205'"
      ]
     },
     "execution_count": 207,
     "metadata": {},
     "output_type": "execute_result"
    }
   ],
   "source": [
    "address_hold[0]"
   ]
  },
  {
   "cell_type": "code",
   "execution_count": 211,
   "metadata": {
    "collapsed": true
   },
   "outputs": [],
   "source": [
    "distros = distros[272:]"
   ]
  },
  {
   "cell_type": "code",
   "execution_count": 212,
   "metadata": {},
   "outputs": [
    {
     "data": {
      "text/plain": [
       "221"
      ]
     },
     "execution_count": 212,
     "metadata": {},
     "output_type": "execute_result"
    }
   ],
   "source": [
    "len(distros)"
   ]
  },
  {
   "cell_type": "code",
   "execution_count": null,
   "metadata": {
    "collapsed": true
   },
   "outputs": [],
   "source": []
  }
 ],
 "metadata": {
  "kernelspec": {
   "display_name": "Python 3",
   "language": "python",
   "name": "python3"
  },
  "language_info": {
   "codemirror_mode": {
    "name": "ipython",
    "version": 3
   },
   "file_extension": ".py",
   "mimetype": "text/x-python",
   "name": "python",
   "nbconvert_exporter": "python",
   "pygments_lexer": "ipython3",
   "version": "3.6.3"
  },
  "toc": {
   "nav_menu": {},
   "number_sections": true,
   "sideBar": true,
   "skip_h1_title": false,
   "toc_cell": false,
   "toc_position": {},
   "toc_section_display": "block",
   "toc_window_display": false
  }
 },
 "nbformat": 4,
 "nbformat_minor": 2
}
