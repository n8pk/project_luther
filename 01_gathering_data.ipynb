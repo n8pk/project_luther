{
 "cells": [
  {
   "cell_type": "markdown",
   "metadata": {
    "collapsed": true
   },
   "source": [
    "## Project Luther"
   ]
  },
  {
   "cell_type": "markdown",
   "metadata": {},
   "source": [
    "Nathaniel Kelley\n",
    "\n",
    "Started: 01/24/18"
   ]
  },
  {
   "cell_type": "markdown",
   "metadata": {},
   "source": [
    "# Gathering Data"
   ]
  },
  {
   "cell_type": "code",
   "execution_count": 4,
   "metadata": {
    "collapsed": true
   },
   "outputs": [],
   "source": [
    "from selenium import webdriver\n",
    "from selenium.webdriver.common.keys import Keys\n",
    "import time\n",
    "import os\n",
    "\n",
    "chromedriver = \"/home/nate/Bench/chromedriver\"\n",
    "os.environ[\"webdriver.chrome.driver\"] = chromedriver"
   ]
  },
  {
   "cell_type": "code",
   "execution_count": 5,
   "metadata": {},
   "outputs": [],
   "source": [
    "# start off by going on redfin\n",
    "# under zip/state/city, filter for newest properties first\n",
    "# that way we can stick this all in a function later,\n",
    "# and loop the pages through, or set to call only on new additions\n",
    "\n",
    "\n",
    "driver = webdriver.Chrome(chromedriver)\n",
    "driver.get('https://www.redfin.com/city/16163/WA/Seattle/filter/sort=lo-days,property-type=house')\n",
    "time.sleep(1);"
   ]
  },
  {
   "cell_type": "code",
   "execution_count": 6,
   "metadata": {
    "collapsed": true
   },
   "outputs": [],
   "source": [
    "search = driver.find_element_by_xpath('//*[@id=\"MapHomeCard_0\"]/div/div[2]/div[4]/a/button')\n",
    "search.click()\n",
    "time.sleep(1);"
   ]
  },
  {
   "cell_type": "code",
   "execution_count": 8,
   "metadata": {},
   "outputs": [],
   "source": [
    "# for i in range(20):\n",
    "#\n",
    "#     driver.find_element_by_xpath('//*[@id=\"MapHomeCard_{i}\"]/div/div[2]/div[4]/a/button')\n",
    "#     search.click()\n",
    "#     time.sleep(1);\n",
    "#     driver.switch_to_window(driver.window_handles[1])"
   ]
  },
  {
   "cell_type": "code",
   "execution_count": 9,
   "metadata": {
    "collapsed": true
   },
   "outputs": [],
   "source": [
    "driver.switch_to_window(driver.window_handles[1])"
   ]
  },
  {
   "cell_type": "code",
   "execution_count": 24,
   "metadata": {},
   "outputs": [
    {
     "data": {
      "text/plain": [
       "'6743 48th Ave SW, Seattle, WA 98136'"
      ]
     },
     "execution_count": 24,
     "metadata": {},
     "output_type": "execute_result"
    }
   ],
   "source": [
    "# get address\n",
    "address = driver.find_element_by_xpath('//*[@class=\"street-address\"]').text\n",
    "\n",
    "\n",
    "csz = driver.find_element_by_xpath('//*[@class=\"citystatezip\"]').text\n",
    "\n",
    "\n",
    "full_address = address + ', ' + csz\n",
    "\n",
    "full_address"
   ]
  },
  {
   "cell_type": "code",
   "execution_count": null,
   "metadata": {
    "collapsed": true
   },
   "outputs": [],
   "source": [
    "# xpath on gmaps of https*\n",
    "\n",
    "# /html/head/meta[7]"
   ]
  },
  {
   "cell_type": "code",
   "execution_count": 34,
   "metadata": {},
   "outputs": [
    {
     "data": {
      "text/plain": [
       "675000"
      ]
     },
     "execution_count": 34,
     "metadata": {},
     "output_type": "execute_result"
    }
   ],
   "source": [
    "home_price = driver.find_element_by_xpath('//*[@class=\"info-block price\"]').text\n",
    "\n",
    "home_price = int(home_price.replace('$', '').replace(',', '').replace('\\nPrice', ''))\n",
    "\n",
    "home_price"
   ]
  },
  {
   "cell_type": "code",
   "execution_count": 37,
   "metadata": {},
   "outputs": [
    {
     "data": {
      "text/plain": [
       "'3\\nBeds'"
      ]
     },
     "execution_count": 37,
     "metadata": {},
     "output_type": "execute_result"
    }
   ],
   "source": [
    "beds = driver.find_element_by_xpath('//*[@data-rf-test-id=\"abp-beds\"]').text\n",
    "beds"
   ]
  },
  {
   "cell_type": "code",
   "execution_count": 38,
   "metadata": {},
   "outputs": [
    {
     "data": {
      "text/plain": [
       "'1.75\\nBaths'"
      ]
     },
     "execution_count": 38,
     "metadata": {},
     "output_type": "execute_result"
    }
   ],
   "source": [
    "baths = driver.find_element_by_xpath('//*[@data-rf-test-id=\"abp-baths\"]').text\n",
    "baths"
   ]
  },
  {
   "cell_type": "code",
   "execution_count": null,
   "metadata": {
    "collapsed": true
   },
   "outputs": [],
   "source": []
  }
 ],
 "metadata": {
  "kernelspec": {
   "display_name": "Python 3",
   "language": "python",
   "name": "python3"
  },
  "language_info": {
   "codemirror_mode": {
    "name": "ipython",
    "version": 3
   },
   "file_extension": ".py",
   "mimetype": "text/x-python",
   "name": "python",
   "nbconvert_exporter": "python",
   "pygments_lexer": "ipython3",
   "version": "3.6.3"
  },
  "toc": {
   "nav_menu": {},
   "number_sections": true,
   "sideBar": true,
   "skip_h1_title": false,
   "toc_cell": false,
   "toc_position": {},
   "toc_section_display": "block",
   "toc_window_display": false
  }
 },
 "nbformat": 4,
 "nbformat_minor": 2
}
